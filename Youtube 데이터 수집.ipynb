{
 "cells": [
  {
   "cell_type": "markdown",
   "metadata": {},
   "source": [
    "### 면접왕 이형(415개) ✅, 강민혁 (391개) ✅, 옴스잡스 (241개) ✅"
   ]
  },
  {
   "cell_type": "code",
   "execution_count": 1,
   "metadata": {},
   "outputs": [],
   "source": [
    "import requests # 웹 페이지 소스를 얻기 위한 패키지(기본 내장 패키지이다.)\n",
    "from bs4 import BeautifulSoup # 웹 페이지 소스를 얻기 위한 패키지, 더 간단히 얻을 수 있다는 장점이 있다고 한다.\n",
    "from datetime import datetime                                # (!pip install beautifulsoup4 으로 다운받을 수 있다.)\n",
    "import pandas as pd # 데이터를 처리하기 위한 가장 기본적인 패키지\n",
    "import time # 사이트를 불러올 때, 작업 지연시간을 지정해주기 위한 패키지이다. (사이트가 늦게 켜지면 에러가 발생하기 때문)\n",
    "import urllib.request #\n",
    "from selenium.webdriver import Chrome\n",
    "import time\n",
    "import json\n",
    "import re\n",
    "from selenium import webdriver\n",
    "from selenium.webdriver.chrome.options import Options\n",
    "from selenium.webdriver.common.keys import Keys\n",
    "import datetime as dt\n",
    "from selenium.webdriver import ActionChains"
   ]
  },
  {
   "cell_type": "code",
   "execution_count": 97,
   "metadata": {
    "scrolled": false
   },
   "outputs": [
    {
     "name": "stdout",
     "output_type": "stream",
     "text": [
      "415 퇴사한 이형, 여러분께 사죄 말씀 올립니다.\n",
      "416 ['퇴사한 이형, 여러분께 사죄 말씀 올립니다.'] ['3:47'] ['2018. 12. 5.'] ['조회수 41,772회']\n"
     ]
    }
   ],
   "source": [
    "title_list = list() # 썸네일 제목을 저장하는 리스트\n",
    "view_list = list() # 조회수 리스트\n",
    "date_list = list()\n",
    "run_time_list = list()\n",
    "\n",
    "start_url  = 'https://www.youtube.com/c/%EB%A9%B4%EC%A0%91%EC%99%95%EC%9D%B4%ED%98%95/videos'\n",
    "delay = 3\n",
    "driver = webdriver.Chrome(executable_path = 'c:\\chromedriver')\n",
    "driver.implicitly_wait(delay)\n",
    "driver.get(start_url)  \n",
    "driver.maximize_window()\n",
    "\n",
    "# 스크롤 높이 가져옴\n",
    "scroll_height = driver.execute_script(\"return document.documentElement.scrollHeight\")\n",
    "\n",
    "while True:\n",
    "    # 스크롤바를 스크롤패인 높이만큼 이동\n",
    "    driver.execute_script('window.scrollTo(0, document.documentElement.scrollHeight)')\n",
    "\n",
    "    # 밑에 붙일 내용을 요청해서 화면을 만들때까지 시간차를 둔다.\n",
    "    time.sleep(2)\n",
    "    new_scroll_height = driver.execute_script('return document.documentElement.scrollHeight')\n",
    "    if scroll_height == new_scroll_height:\n",
    "        # 맨 위로 스크롤\n",
    "        driver.execute_script('window.scrollTo(0,0)')\n",
    "        break\n",
    "    scroll_height = new_scroll_height\n",
    "\n",
    "        \n",
    "        \n",
    "idx = 415\n",
    "\n",
    "while True:\n",
    "    try:\n",
    "\n",
    "        driver.execute_script('window.scrollTo(0,0)')\n",
    "        time.sleep(1)\n",
    "\n",
    "\n",
    "        # x_path 주소 복사할 때 webdriver를 통해 열린 창으로 주소 복사 해야함!! window chrome으로 주소 복사하면 오류!\n",
    "\n",
    "        # 재생시간을 리스트에 저장\n",
    "        run_time_xpath = '/html/body/ytd-app/div/ytd-page-manager/ytd-browse/ytd-two-column-browse-results-renderer/div[1]/ytd-section-list-renderer/div[2]/ytd-item-section-renderer/div[3]/ytd-grid-renderer/div[1]/ytd-grid-video-renderer['+str(idx)+']/div[1]/ytd-thumbnail/a/div[1]/ytd-thumbnail-overlay-time-status-renderer/span'\n",
    "        run_time = driver.find_element_by_xpath(run_time_xpath)\n",
    "        run_time_list.append(run_time.text)\n",
    "        time.sleep(1)\n",
    "\n",
    "\n",
    "        #동영상 클릭\n",
    "        video = driver.find_element_by_xpath('/html/body/ytd-app/div/ytd-page-manager/ytd-browse/ytd-two-column-browse-results-renderer/div[1]/ytd-section-list-renderer/div[2]/ytd-item-section-renderer/div[3]/ytd-grid-renderer/div[1]/ytd-grid-video-renderer['+str(idx)+']/div[1]/div[1]/div[1]/h3/a').click()\n",
    "        time.sleep(1)\n",
    "        \n",
    "        # 타이틀을 리스트에 저장\n",
    "        title_xpath = '//*[@id=\"container\"]/h1/yt-formatted-string'\n",
    "        title = driver.find_element_by_xpath(title_xpath)\n",
    "        title_list.append(title.text)\n",
    "        time.sleep(2)\n",
    "        print(idx, title.text)\n",
    "\n",
    "\n",
    "        # 조회수를 리스트에 저장\n",
    "        viewcnt_xpath = '//*[@id=\"count\"]/ytd-video-view-count-renderer/span[1]'\n",
    "        view = driver.find_element_by_xpath(viewcnt_xpath)\n",
    "        view_list.append(view.text)\n",
    "\n",
    "        # 날짜를 리스트에 저장\n",
    "        date_xpath = '//*[@id=\"info-strings\"]/yt-formatted-string'\n",
    "        date = driver.find_element_by_xpath(date_xpath)\n",
    "        date_list.append(date.text)\n",
    "\n",
    "        driver.back()\n",
    "        time.sleep(1)\n",
    "\n",
    "        idx += 1\n",
    "    \n",
    "    except:\n",
    "        break\n",
    "        \n",
    "print(idx, title_list, run_time_list, date_list, view_list)"
   ]
  },
  {
   "cell_type": "code",
   "execution_count": 93,
   "metadata": {},
   "outputs": [
    {
     "data": {
      "text/html": [
       "<div>\n",
       "<style scoped>\n",
       "    .dataframe tbody tr th:only-of-type {\n",
       "        vertical-align: middle;\n",
       "    }\n",
       "\n",
       "    .dataframe tbody tr th {\n",
       "        vertical-align: top;\n",
       "    }\n",
       "\n",
       "    .dataframe thead th {\n",
       "        text-align: right;\n",
       "    }\n",
       "</style>\n",
       "<table border=\"1\" class=\"dataframe\">\n",
       "  <thead>\n",
       "    <tr style=\"text-align: right;\">\n",
       "      <th></th>\n",
       "      <th>title</th>\n",
       "      <th>run_time</th>\n",
       "      <th>date</th>\n",
       "      <th>view</th>\n",
       "    </tr>\n",
       "  </thead>\n",
       "  <tbody>\n",
       "    <tr>\n",
       "      <th>0</th>\n",
       "      <td>[취업특강] 인재상, 직무역량 따위 필요없다. \"취업의 핵심 3요소\" by Ohms</td>\n",
       "      <td>15:05</td>\n",
       "      <td>최초 공개: 2019. 6. 6.</td>\n",
       "      <td>조회수 4,234회</td>\n",
       "    </tr>\n",
       "  </tbody>\n",
       "</table>\n",
       "</div>"
      ],
      "text/plain": [
       "                                            title run_time  \\\n",
       "0  [취업특강] 인재상, 직무역량 따위 필요없다. \"취업의 핵심 3요소\" by Ohms    15:05   \n",
       "\n",
       "                 date        view  \n",
       "0  최초 공개: 2019. 6. 6.  조회수 4,234회  "
      ]
     },
     "execution_count": 93,
     "metadata": {},
     "output_type": "execute_result"
    }
   ],
   "source": [
    "oms = pd.DataFrame({'title':title_list[:len(title_list)],\n",
    "                      'run_time' : run_time_list[:len(title_list)],\n",
    "                      'date' : date_list[:len(title_list)],\n",
    "                     'view':view_list[:len(title_list)]})\n",
    "oms"
   ]
  },
  {
   "cell_type": "code",
   "execution_count": 94,
   "metadata": {},
   "outputs": [],
   "source": [
    "oms.to_csv('C:/Users/hyesu/Desktop/면접왕 이형 데이터 분석/옴스잡스/241까지.csv', encoding = 'utf-8')"
   ]
  },
  {
   "cell_type": "code",
   "execution_count": null,
   "metadata": {},
   "outputs": [],
   "source": []
  },
  {
   "cell_type": "code",
   "execution_count": null,
   "metadata": {},
   "outputs": [],
   "source": []
  }
 ],
 "metadata": {
  "kernelspec": {
   "display_name": "Python 3",
   "language": "python",
   "name": "python3"
  },
  "language_info": {
   "codemirror_mode": {
    "name": "ipython",
    "version": 3
   },
   "file_extension": ".py",
   "mimetype": "text/x-python",
   "name": "python",
   "nbconvert_exporter": "python",
   "pygments_lexer": "ipython3",
   "version": "3.7.6"
  }
 },
 "nbformat": 4,
 "nbformat_minor": 4
}
