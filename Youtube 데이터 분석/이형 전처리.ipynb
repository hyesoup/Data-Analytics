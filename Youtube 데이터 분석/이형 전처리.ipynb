{
 "cells": [
  {
   "cell_type": "code",
   "execution_count": 1,
   "metadata": {},
   "outputs": [],
   "source": [
    "import pandas as pd"
   ]
  },
  {
   "cell_type": "code",
   "execution_count": 2,
   "metadata": {},
   "outputs": [],
   "source": [
    "hyung = pd.read_csv('./수집한 데이터들/면접왕이형/data.csv',engine='python',encoding='euc-kr')\n",
    "hyung.drop(['Unnamed: 0'], axis = 1, inplace = True)"
   ]
  },
  {
   "cell_type": "code",
   "execution_count": 3,
   "metadata": {},
   "outputs": [
    {
     "data": {
      "text/html": [
       "<div>\n",
       "<style scoped>\n",
       "    .dataframe tbody tr th:only-of-type {\n",
       "        vertical-align: middle;\n",
       "    }\n",
       "\n",
       "    .dataframe tbody tr th {\n",
       "        vertical-align: top;\n",
       "    }\n",
       "\n",
       "    .dataframe thead th {\n",
       "        text-align: right;\n",
       "    }\n",
       "</style>\n",
       "<table border=\"1\" class=\"dataframe\">\n",
       "  <thead>\n",
       "    <tr style=\"text-align: right;\">\n",
       "      <th></th>\n",
       "      <th>title</th>\n",
       "      <th>run_time</th>\n",
       "      <th>date</th>\n",
       "      <th>view</th>\n",
       "    </tr>\n",
       "  </thead>\n",
       "  <tbody>\n",
       "    <tr>\n",
       "      <th>0</th>\n",
       "      <td>상반기를 이렇게 준비하면 당연히 떨어집니다</td>\n",
       "      <td>7:51</td>\n",
       "      <td>2022. 2. 17.</td>\n",
       "      <td>조회수 26,080회</td>\n",
       "    </tr>\n",
       "    <tr>\n",
       "      <th>1</th>\n",
       "      <td>2월에 진짜 놓치면 안 되는 것</td>\n",
       "      <td>8:36</td>\n",
       "      <td>2022. 2. 15.</td>\n",
       "      <td>조회수 55,310회</td>\n",
       "    </tr>\n",
       "    <tr>\n",
       "      <th>2</th>\n",
       "      <td>서류에서 매번 광탈하는 취준생 특징</td>\n",
       "      <td>1:11:05</td>\n",
       "      <td>실시간 스트리밍 시작일: 2022. 2. 14.</td>\n",
       "      <td>조회수 13,909회</td>\n",
       "    </tr>\n",
       "    <tr>\n",
       "      <th>3</th>\n",
       "      <td>공백기 2년, 스펙 부족 지원자에 대한 면접관의 속마음</td>\n",
       "      <td>9:43</td>\n",
       "      <td>2022. 2. 13.</td>\n",
       "      <td>조회수 32,281회</td>\n",
       "    </tr>\n",
       "    <tr>\n",
       "      <th>4</th>\n",
       "      <td>나도 모르게 취업이 안 되는 이유</td>\n",
       "      <td>7:17</td>\n",
       "      <td>2022. 2. 9.</td>\n",
       "      <td>조회수 16,045회</td>\n",
       "    </tr>\n",
       "  </tbody>\n",
       "</table>\n",
       "</div>"
      ],
      "text/plain": [
       "                            title run_time                        date  \\\n",
       "0         상반기를 이렇게 준비하면 당연히 떨어집니다     7:51                2022. 2. 17.   \n",
       "1               2월에 진짜 놓치면 안 되는 것     8:36                2022. 2. 15.   \n",
       "2             서류에서 매번 광탈하는 취준생 특징  1:11:05  실시간 스트리밍 시작일: 2022. 2. 14.   \n",
       "3  공백기 2년, 스펙 부족 지원자에 대한 면접관의 속마음     9:43                2022. 2. 13.   \n",
       "4              나도 모르게 취업이 안 되는 이유     7:17                 2022. 2. 9.   \n",
       "\n",
       "          view  \n",
       "0  조회수 26,080회  \n",
       "1  조회수 55,310회  \n",
       "2  조회수 13,909회  \n",
       "3  조회수 32,281회  \n",
       "4  조회수 16,045회  "
      ]
     },
     "execution_count": 3,
     "metadata": {},
     "output_type": "execute_result"
    }
   ],
   "source": [
    "hyung.head()"
   ]
  },
  {
   "cell_type": "markdown",
   "metadata": {},
   "source": [
    "# 1. 전처리\n",
    "## 1) 날짜 전처리"
   ]
  },
  {
   "cell_type": "markdown",
   "metadata": {},
   "source": [
    "#### '실시간 스트리밍 시작일', '최초 공개' 삭제"
   ]
  },
  {
   "cell_type": "code",
   "execution_count": 4,
   "metadata": {},
   "outputs": [],
   "source": [
    "for i in range(len(hyung)):\n",
    "    if '실시간 스트리밍 시작일: ' in hyung['date'][i]:\n",
    "        hyung['date'][i] = hyung['date'][i][14:]\n",
    "    if '최초 공' in hyung['date'][i]:\n",
    "        hyung['date'][i] = hyung['date'][i][7:]"
   ]
  },
  {
   "cell_type": "markdown",
   "metadata": {},
   "source": [
    "#### 날짜 이어붙이기"
   ]
  },
  {
   "cell_type": "code",
   "execution_count": 5,
   "metadata": {},
   "outputs": [],
   "source": [
    "for i in range(len(hyung)):\n",
    "    hyung['date'][i] = hyung['date'][i][:-1]\n",
    "    hyung['date'][i] = hyung['date'][i].split('. ')\n",
    "    if len(hyung['date'][i][1]) == 1:\n",
    "        hyung['date'][i][1] = '0' + hyung['date'][i][1]\n",
    "    if len(hyung['date'][i][2]) == 1:\n",
    "        hyung['date'][i][2] = '0' + hyung['date'][i][2]\n",
    "    hyung['date'][i] = int(hyung['date'][i][0]+hyung['date'][i][1]+hyung['date'][i][2])    "
   ]
  },
  {
   "cell_type": "code",
   "execution_count": 6,
   "metadata": {},
   "outputs": [
    {
     "data": {
      "text/html": [
       "<div>\n",
       "<style scoped>\n",
       "    .dataframe tbody tr th:only-of-type {\n",
       "        vertical-align: middle;\n",
       "    }\n",
       "\n",
       "    .dataframe tbody tr th {\n",
       "        vertical-align: top;\n",
       "    }\n",
       "\n",
       "    .dataframe thead th {\n",
       "        text-align: right;\n",
       "    }\n",
       "</style>\n",
       "<table border=\"1\" class=\"dataframe\">\n",
       "  <thead>\n",
       "    <tr style=\"text-align: right;\">\n",
       "      <th></th>\n",
       "      <th>title</th>\n",
       "      <th>run_time</th>\n",
       "      <th>date</th>\n",
       "      <th>view</th>\n",
       "    </tr>\n",
       "  </thead>\n",
       "  <tbody>\n",
       "    <tr>\n",
       "      <th>0</th>\n",
       "      <td>상반기를 이렇게 준비하면 당연히 떨어집니다</td>\n",
       "      <td>7:51</td>\n",
       "      <td>20220217</td>\n",
       "      <td>조회수 26,080회</td>\n",
       "    </tr>\n",
       "    <tr>\n",
       "      <th>1</th>\n",
       "      <td>2월에 진짜 놓치면 안 되는 것</td>\n",
       "      <td>8:36</td>\n",
       "      <td>20220215</td>\n",
       "      <td>조회수 55,310회</td>\n",
       "    </tr>\n",
       "    <tr>\n",
       "      <th>2</th>\n",
       "      <td>서류에서 매번 광탈하는 취준생 특징</td>\n",
       "      <td>1:11:05</td>\n",
       "      <td>20220214</td>\n",
       "      <td>조회수 13,909회</td>\n",
       "    </tr>\n",
       "    <tr>\n",
       "      <th>3</th>\n",
       "      <td>공백기 2년, 스펙 부족 지원자에 대한 면접관의 속마음</td>\n",
       "      <td>9:43</td>\n",
       "      <td>20220213</td>\n",
       "      <td>조회수 32,281회</td>\n",
       "    </tr>\n",
       "    <tr>\n",
       "      <th>4</th>\n",
       "      <td>나도 모르게 취업이 안 되는 이유</td>\n",
       "      <td>7:17</td>\n",
       "      <td>20220209</td>\n",
       "      <td>조회수 16,045회</td>\n",
       "    </tr>\n",
       "  </tbody>\n",
       "</table>\n",
       "</div>"
      ],
      "text/plain": [
       "                            title run_time      date         view\n",
       "0         상반기를 이렇게 준비하면 당연히 떨어집니다     7:51  20220217  조회수 26,080회\n",
       "1               2월에 진짜 놓치면 안 되는 것     8:36  20220215  조회수 55,310회\n",
       "2             서류에서 매번 광탈하는 취준생 특징  1:11:05  20220214  조회수 13,909회\n",
       "3  공백기 2년, 스펙 부족 지원자에 대한 면접관의 속마음     9:43  20220213  조회수 32,281회\n",
       "4              나도 모르게 취업이 안 되는 이유     7:17  20220209  조회수 16,045회"
      ]
     },
     "execution_count": 6,
     "metadata": {},
     "output_type": "execute_result"
    }
   ],
   "source": [
    "hyung.head()"
   ]
  },
  {
   "cell_type": "markdown",
   "metadata": {},
   "source": [
    "#### 년 월 일 따로 분리 (year, month, day column으로)"
   ]
  },
  {
   "cell_type": "markdown",
   "metadata": {},
   "source": [
    "year = []\n",
    "month = []\n",
    "day = []\n",
    "for i in range(len(hyung)):\n",
    "    year.append(hyung['date'][i][:4])\n",
    "    \n",
    "    # 각 날짜에 따라 슬라이스하는 위치가 달라짐\n",
    "    # 00월 00일\n",
    "    if len(hyung['date'][i]) == 11:\n",
    "        month.append(hyung['date'][i][6:7])\n",
    "        day.append(hyung['date'][i][9:10])\n",
    "    # 00월 0일 or 0월 00일\n",
    "    elif len(hyung['date'][i]) == 12:\n",
    "        if hyung['date'][i][7] == '.':\n",
    "            month.append(hyung['date'][i][6])\n",
    "            day.append(hyung['date'][i][9:11])\n",
    "        elif hyung['date'][i][8] == '.':\n",
    "            month.append(hyung['date'][i][6:8])\n",
    "            day.append(hyung['date'][i][10:11])\n",
    "    # 0월 0일\n",
    "    else:\n",
    "        month.append(hyung['date'][i][6:8])\n",
    "        day.append(hyung['date'][i][10:12])\n",
    "\n",
    "hyung['year'] = year\n",
    "hyung['month'] = month\n",
    "hyung['day'] = day\n",
    "\n",
    "hyung.head()"
   ]
  },
  {
   "cell_type": "markdown",
   "metadata": {},
   "source": [
    "## 2) 조회수 전처리"
   ]
  },
  {
   "cell_type": "markdown",
   "metadata": {},
   "source": [
    "#### 숫자만 남기기"
   ]
  },
  {
   "cell_type": "code",
   "execution_count": 7,
   "metadata": {},
   "outputs": [
    {
     "data": {
      "text/html": [
       "<div>\n",
       "<style scoped>\n",
       "    .dataframe tbody tr th:only-of-type {\n",
       "        vertical-align: middle;\n",
       "    }\n",
       "\n",
       "    .dataframe tbody tr th {\n",
       "        vertical-align: top;\n",
       "    }\n",
       "\n",
       "    .dataframe thead th {\n",
       "        text-align: right;\n",
       "    }\n",
       "</style>\n",
       "<table border=\"1\" class=\"dataframe\">\n",
       "  <thead>\n",
       "    <tr style=\"text-align: right;\">\n",
       "      <th></th>\n",
       "      <th>title</th>\n",
       "      <th>run_time</th>\n",
       "      <th>date</th>\n",
       "      <th>view</th>\n",
       "    </tr>\n",
       "  </thead>\n",
       "  <tbody>\n",
       "    <tr>\n",
       "      <th>0</th>\n",
       "      <td>상반기를 이렇게 준비하면 당연히 떨어집니다</td>\n",
       "      <td>7:51</td>\n",
       "      <td>20220217</td>\n",
       "      <td>26080</td>\n",
       "    </tr>\n",
       "    <tr>\n",
       "      <th>1</th>\n",
       "      <td>2월에 진짜 놓치면 안 되는 것</td>\n",
       "      <td>8:36</td>\n",
       "      <td>20220215</td>\n",
       "      <td>55310</td>\n",
       "    </tr>\n",
       "    <tr>\n",
       "      <th>2</th>\n",
       "      <td>서류에서 매번 광탈하는 취준생 특징</td>\n",
       "      <td>1:11:05</td>\n",
       "      <td>20220214</td>\n",
       "      <td>13909</td>\n",
       "    </tr>\n",
       "    <tr>\n",
       "      <th>3</th>\n",
       "      <td>공백기 2년, 스펙 부족 지원자에 대한 면접관의 속마음</td>\n",
       "      <td>9:43</td>\n",
       "      <td>20220213</td>\n",
       "      <td>32281</td>\n",
       "    </tr>\n",
       "    <tr>\n",
       "      <th>4</th>\n",
       "      <td>나도 모르게 취업이 안 되는 이유</td>\n",
       "      <td>7:17</td>\n",
       "      <td>20220209</td>\n",
       "      <td>16045</td>\n",
       "    </tr>\n",
       "  </tbody>\n",
       "</table>\n",
       "</div>"
      ],
      "text/plain": [
       "                            title run_time      date   view\n",
       "0         상반기를 이렇게 준비하면 당연히 떨어집니다     7:51  20220217  26080\n",
       "1               2월에 진짜 놓치면 안 되는 것     8:36  20220215  55310\n",
       "2             서류에서 매번 광탈하는 취준생 특징  1:11:05  20220214  13909\n",
       "3  공백기 2년, 스펙 부족 지원자에 대한 면접관의 속마음     9:43  20220213  32281\n",
       "4              나도 모르게 취업이 안 되는 이유     7:17  20220209  16045"
      ]
     },
     "execution_count": 7,
     "metadata": {},
     "output_type": "execute_result"
    }
   ],
   "source": [
    "for i in range(len(hyung)):\n",
    "    hyung['view'][i] = hyung['view'][i][4:-1]\n",
    "    if ',' in hyung['view'][i]:\n",
    "        hyung['view'][i] = hyung['view'][i].replace(',','')\n",
    "\n",
    "hyung.head()"
   ]
  },
  {
   "cell_type": "markdown",
   "metadata": {},
   "source": [
    "#### int형으로 형변환"
   ]
  },
  {
   "cell_type": "code",
   "execution_count": 8,
   "metadata": {},
   "outputs": [],
   "source": [
    "hyung['view'] = hyung['view'].astype(int)"
   ]
  },
  {
   "cell_type": "markdown",
   "metadata": {},
   "source": [
    "## 3) 영상 길이 전처리"
   ]
  },
  {
   "cell_type": "code",
   "execution_count": 9,
   "metadata": {},
   "outputs": [
    {
     "name": "stderr",
     "output_type": "stream",
     "text": [
      "C:\\Anaconda3\\lib\\site-packages\\ipykernel_launcher.py:2: SettingWithCopyWarning: \n",
      "A value is trying to be set on a copy of a slice from a DataFrame\n",
      "\n",
      "See the caveats in the documentation: https://pandas.pydata.org/pandas-docs/stable/user_guide/indexing.html#returning-a-view-versus-a-copy\n",
      "  \n"
     ]
    },
    {
     "data": {
      "text/html": [
       "<div>\n",
       "<style scoped>\n",
       "    .dataframe tbody tr th:only-of-type {\n",
       "        vertical-align: middle;\n",
       "    }\n",
       "\n",
       "    .dataframe tbody tr th {\n",
       "        vertical-align: top;\n",
       "    }\n",
       "\n",
       "    .dataframe thead th {\n",
       "        text-align: right;\n",
       "    }\n",
       "</style>\n",
       "<table border=\"1\" class=\"dataframe\">\n",
       "  <thead>\n",
       "    <tr style=\"text-align: right;\">\n",
       "      <th></th>\n",
       "      <th>title</th>\n",
       "      <th>run_time</th>\n",
       "      <th>date</th>\n",
       "      <th>view</th>\n",
       "    </tr>\n",
       "  </thead>\n",
       "  <tbody>\n",
       "    <tr>\n",
       "      <th>0</th>\n",
       "      <td>상반기를 이렇게 준비하면 당연히 떨어집니다</td>\n",
       "      <td>[7, 51]</td>\n",
       "      <td>20220217</td>\n",
       "      <td>26080</td>\n",
       "    </tr>\n",
       "    <tr>\n",
       "      <th>1</th>\n",
       "      <td>2월에 진짜 놓치면 안 되는 것</td>\n",
       "      <td>[8, 36]</td>\n",
       "      <td>20220215</td>\n",
       "      <td>55310</td>\n",
       "    </tr>\n",
       "    <tr>\n",
       "      <th>2</th>\n",
       "      <td>서류에서 매번 광탈하는 취준생 특징</td>\n",
       "      <td>[1, 11, 05]</td>\n",
       "      <td>20220214</td>\n",
       "      <td>13909</td>\n",
       "    </tr>\n",
       "    <tr>\n",
       "      <th>3</th>\n",
       "      <td>공백기 2년, 스펙 부족 지원자에 대한 면접관의 속마음</td>\n",
       "      <td>[9, 43]</td>\n",
       "      <td>20220213</td>\n",
       "      <td>32281</td>\n",
       "    </tr>\n",
       "    <tr>\n",
       "      <th>4</th>\n",
       "      <td>나도 모르게 취업이 안 되는 이유</td>\n",
       "      <td>[7, 17]</td>\n",
       "      <td>20220209</td>\n",
       "      <td>16045</td>\n",
       "    </tr>\n",
       "    <tr>\n",
       "      <th>...</th>\n",
       "      <td>...</td>\n",
       "      <td>...</td>\n",
       "      <td>...</td>\n",
       "      <td>...</td>\n",
       "    </tr>\n",
       "    <tr>\n",
       "      <th>410</th>\n",
       "      <td>진짜 잘 본 면접: 면접 잘 본거 같아요? 그 기준이 뭘까요?</td>\n",
       "      <td>[7, 37]</td>\n",
       "      <td>20181205</td>\n",
       "      <td>223441</td>\n",
       "    </tr>\n",
       "    <tr>\n",
       "      <th>411</th>\n",
       "      <td>면접관이 원하는, 두괄식 답변을 알려주마! (말을 짧게 하는게 두괄식이 아니야...)</td>\n",
       "      <td>[4, 36]</td>\n",
       "      <td>20181205</td>\n",
       "      <td>221963</td>\n",
       "    </tr>\n",
       "    <tr>\n",
       "      <th>412</th>\n",
       "      <td>면접관이 밝히는, 면접준비의 핵심 - 수비형면접을 벗어나라</td>\n",
       "      <td>[6, 59]</td>\n",
       "      <td>20181205</td>\n",
       "      <td>97103</td>\n",
       "    </tr>\n",
       "    <tr>\n",
       "      <th>413</th>\n",
       "      <td>면접 마인드셋: 성공하는 면접은 시작이 다르다!</td>\n",
       "      <td>[2, 58]</td>\n",
       "      <td>20181205</td>\n",
       "      <td>41178</td>\n",
       "    </tr>\n",
       "    <tr>\n",
       "      <th>414</th>\n",
       "      <td>퇴사한 이형, 여러분께 사죄 말씀 올립니다.</td>\n",
       "      <td>[3, 47]</td>\n",
       "      <td>20181205</td>\n",
       "      <td>41763</td>\n",
       "    </tr>\n",
       "  </tbody>\n",
       "</table>\n",
       "<p>415 rows × 4 columns</p>\n",
       "</div>"
      ],
      "text/plain": [
       "                                               title     run_time      date  \\\n",
       "0                            상반기를 이렇게 준비하면 당연히 떨어집니다      [7, 51]  20220217   \n",
       "1                                  2월에 진짜 놓치면 안 되는 것      [8, 36]  20220215   \n",
       "2                                서류에서 매번 광탈하는 취준생 특징  [1, 11, 05]  20220214   \n",
       "3                     공백기 2년, 스펙 부족 지원자에 대한 면접관의 속마음      [9, 43]  20220213   \n",
       "4                                 나도 모르게 취업이 안 되는 이유      [7, 17]  20220209   \n",
       "..                                               ...          ...       ...   \n",
       "410               진짜 잘 본 면접: 면접 잘 본거 같아요? 그 기준이 뭘까요?      [7, 37]  20181205   \n",
       "411  면접관이 원하는, 두괄식 답변을 알려주마! (말을 짧게 하는게 두괄식이 아니야...)      [4, 36]  20181205   \n",
       "412                 면접관이 밝히는, 면접준비의 핵심 - 수비형면접을 벗어나라      [6, 59]  20181205   \n",
       "413                       면접 마인드셋: 성공하는 면접은 시작이 다르다!      [2, 58]  20181205   \n",
       "414                         퇴사한 이형, 여러분께 사죄 말씀 올립니다.      [3, 47]  20181205   \n",
       "\n",
       "       view  \n",
       "0     26080  \n",
       "1     55310  \n",
       "2     13909  \n",
       "3     32281  \n",
       "4     16045  \n",
       "..      ...  \n",
       "410  223441  \n",
       "411  221963  \n",
       "412   97103  \n",
       "413   41178  \n",
       "414   41763  \n",
       "\n",
       "[415 rows x 4 columns]"
      ]
     },
     "execution_count": 9,
     "metadata": {},
     "output_type": "execute_result"
    }
   ],
   "source": [
    "for i in range(len(hyung)):\n",
    "    hyung['run_time'][i] = hyung['run_time'][i].split(':')\n",
    "hyung"
   ]
  },
  {
   "cell_type": "markdown",
   "metadata": {},
   "source": [
    "#### 분, 초로 분해"
   ]
  },
  {
   "cell_type": "markdown",
   "metadata": {},
   "source": [
    "hour = []\n",
    "minute = []\n",
    "second = []\n",
    "\n",
    "for i in range(len(hyung)):\n",
    "    # ':'를 기준으로 시, 분, 초 분해\n",
    "    split = hyung['run_time'][i].split(':')\n",
    "    \n",
    "    # 영상 길이가 초\n",
    "    if len(split) == 1:\n",
    "        hour.append(0)\n",
    "        minute.append(0)\n",
    "        second.append(split[0])\n",
    "        \n",
    "    # 영상 길이가 분\n",
    "    elif len(split) == 2:\n",
    "        hour.append(0)\n",
    "        minute.append(split[0])\n",
    "        second.append(split[1])\n",
    "        \n",
    "    # 영상 길이가 시\n",
    "    else:\n",
    "        hour.append(split[0])\n",
    "        minute.append(split[1])\n",
    "        second.append(split[2])\n",
    "\n",
    "\n",
    "hyung['hour'] = hour\n",
    "hyung['minute'] = minute\n",
    "hyung['second'] = second"
   ]
  },
  {
   "cell_type": "markdown",
   "metadata": {},
   "source": [
    "#### 한자리수인 초가 두자리로 되어있음. 한자리로 바꾸기"
   ]
  },
  {
   "cell_type": "markdown",
   "metadata": {},
   "source": [
    "for i in range(len(hyung)):\n",
    "    if hyung['second'][i][0] == '0':\n",
    "        hyung['second'][i] = hyung['second'][i][1:]\n",
    "hyung"
   ]
  },
  {
   "cell_type": "markdown",
   "metadata": {},
   "source": [
    "# 2. 분석\n",
    "## 1) 영상 길이와 조회수간의 관계\n",
    "### 1-1) shorts에 따라 조회수 차이가 많이 날까?\n",
    "- shorts란? 최대 60초 길이의 짧은 동영상"
   ]
  },
  {
   "cell_type": "code",
   "execution_count": 10,
   "metadata": {},
   "outputs": [
    {
     "name": "stdout",
     "output_type": "stream",
     "text": [
      "7\n",
      "12\n"
     ]
    }
   ],
   "source": [
    "for i in range(len(hyung)):\n",
    "    if 'Shorts' in hyung['title'][i]:\n",
    "        print(hyung.index[i])"
   ]
  },
  {
   "cell_type": "code",
   "execution_count": 11,
   "metadata": {
    "scrolled": true
   },
   "outputs": [],
   "source": [
    "# shorts 영상\n",
    "shorts = hyung.iloc[[7, 12]]\n",
    "\n",
    "#shorts가 아닌 영상\n",
    "except_shorts = hyung.drop([7, 12], axis = 0)"
   ]
  },
  {
   "cell_type": "code",
   "execution_count": 12,
   "metadata": {},
   "outputs": [
    {
     "name": "stdout",
     "output_type": "stream",
     "text": [
      "96792.84745762713 1078769.5\n"
     ]
    }
   ],
   "source": [
    "print(except_shorts['view'].mean(), shorts['view'].mean())"
   ]
  },
  {
   "cell_type": "markdown",
   "metadata": {},
   "source": [
    "- short vs shortX 조회수 비교 시각화"
   ]
  },
  {
   "cell_type": "code",
   "execution_count": 13,
   "metadata": {},
   "outputs": [],
   "source": [
    "import matplotlib.pyplot as plt\n",
    "import numpy as np"
   ]
  },
  {
   "cell_type": "code",
   "execution_count": 14,
   "metadata": {},
   "outputs": [
    {
     "data": {
      "image/png": "[encoded data removed]",
      "text/plain": [
       "<Figure size 432x288 with 1 Axes>"
      ]
     },
     "metadata": {
      "needs_background": "light"
     },
     "output_type": "display_data"
    }
   ],
   "source": [
    "x = np.arange(2)\n",
    "types = ['shorts', 'not_shorts']\n",
    "values = [shorts['view'].mean(), except_shorts['view'].mean()]\n",
    "\n",
    "plt.bar(x, values)\n",
    "plt.xticks(x, types)\n",
    "\n",
    "plt.show()"
   ]
  },
  {
   "cell_type": "code",
   "execution_count": 15,
   "metadata": {},
   "outputs": [
    {
     "data": {
      "text/plain": [
       "11.145136529558668"
      ]
     },
     "execution_count": 15,
     "metadata": {},
     "output_type": "execute_result"
    }
   ],
   "source": [
    "shorts['view'].mean() / except_shorts['view'].mean()"
   ]
  },
  {
   "cell_type": "markdown",
   "metadata": {},
   "source": [
    "**shorts 영상이 아닌 영상에 비해 조회수가 약 11배 높다**"
   ]
  },
  {
   "cell_type": "markdown",
   "metadata": {},
   "source": [
    "### 1-2) 영상 길이와 조회수 비교"
   ]
  },
  {
   "cell_type": "code",
   "execution_count": 16,
   "metadata": {
    "scrolled": true
   },
   "outputs": [
    {
     "data": {
      "text/html": [
       "<div>\n",
       "<style scoped>\n",
       "    .dataframe tbody tr th:only-of-type {\n",
       "        vertical-align: middle;\n",
       "    }\n",
       "\n",
       "    .dataframe tbody tr th {\n",
       "        vertical-align: top;\n",
       "    }\n",
       "\n",
       "    .dataframe thead th {\n",
       "        text-align: right;\n",
       "    }\n",
       "</style>\n",
       "<table border=\"1\" class=\"dataframe\">\n",
       "  <thead>\n",
       "    <tr style=\"text-align: right;\">\n",
       "      <th></th>\n",
       "      <th>title</th>\n",
       "      <th>run_time</th>\n",
       "      <th>date</th>\n",
       "      <th>view</th>\n",
       "    </tr>\n",
       "  </thead>\n",
       "  <tbody>\n",
       "    <tr>\n",
       "      <th>0</th>\n",
       "      <td>상반기를 이렇게 준비하면 당연히 떨어집니다</td>\n",
       "      <td>[7, 51]</td>\n",
       "      <td>20220217</td>\n",
       "      <td>26080</td>\n",
       "    </tr>\n",
       "    <tr>\n",
       "      <th>1</th>\n",
       "      <td>2월에 진짜 놓치면 안 되는 것</td>\n",
       "      <td>[8, 36]</td>\n",
       "      <td>20220215</td>\n",
       "      <td>55310</td>\n",
       "    </tr>\n",
       "    <tr>\n",
       "      <th>2</th>\n",
       "      <td>서류에서 매번 광탈하는 취준생 특징</td>\n",
       "      <td>[1, 11, 05]</td>\n",
       "      <td>20220214</td>\n",
       "      <td>13909</td>\n",
       "    </tr>\n",
       "    <tr>\n",
       "      <th>3</th>\n",
       "      <td>공백기 2년, 스펙 부족 지원자에 대한 면접관의 속마음</td>\n",
       "      <td>[9, 43]</td>\n",
       "      <td>20220213</td>\n",
       "      <td>32281</td>\n",
       "    </tr>\n",
       "    <tr>\n",
       "      <th>4</th>\n",
       "      <td>나도 모르게 취업이 안 되는 이유</td>\n",
       "      <td>[7, 17]</td>\n",
       "      <td>20220209</td>\n",
       "      <td>16045</td>\n",
       "    </tr>\n",
       "  </tbody>\n",
       "</table>\n",
       "</div>"
      ],
      "text/plain": [
       "                            title     run_time      date   view\n",
       "0         상반기를 이렇게 준비하면 당연히 떨어집니다      [7, 51]  20220217  26080\n",
       "1               2월에 진짜 놓치면 안 되는 것      [8, 36]  20220215  55310\n",
       "2             서류에서 매번 광탈하는 취준생 특징  [1, 11, 05]  20220214  13909\n",
       "3  공백기 2년, 스펙 부족 지원자에 대한 면접관의 속마음      [9, 43]  20220213  32281\n",
       "4              나도 모르게 취업이 안 되는 이유      [7, 17]  20220209  16045"
      ]
     },
     "execution_count": 16,
     "metadata": {},
     "output_type": "execute_result"
    }
   ],
   "source": [
    "except_shorts.head()"
   ]
  },
  {
   "cell_type": "code",
   "execution_count": 17,
   "metadata": {},
   "outputs": [
    {
     "data": {
      "text/html": [
       "<div>\n",
       "<style scoped>\n",
       "    .dataframe tbody tr th:only-of-type {\n",
       "        vertical-align: middle;\n",
       "    }\n",
       "\n",
       "    .dataframe tbody tr th {\n",
       "        vertical-align: top;\n",
       "    }\n",
       "\n",
       "    .dataframe thead th {\n",
       "        text-align: right;\n",
       "    }\n",
       "</style>\n",
       "<table border=\"1\" class=\"dataframe\">\n",
       "  <thead>\n",
       "    <tr style=\"text-align: right;\">\n",
       "      <th></th>\n",
       "      <th>title</th>\n",
       "      <th>run_time</th>\n",
       "      <th>date</th>\n",
       "      <th>view</th>\n",
       "    </tr>\n",
       "  </thead>\n",
       "  <tbody>\n",
       "    <tr>\n",
       "      <th>403</th>\n",
       "      <td>면접관이 밝히는, 1분 자기소개는 이렇게 해야 들린다! 정말 자기소개는 안들려요~</td>\n",
       "      <td>302</td>\n",
       "      <td>20181209</td>\n",
       "      <td>1727000</td>\n",
       "    </tr>\n",
       "    <tr>\n",
       "      <th>196</th>\n",
       "      <td>준비 안하면 면접 광탈하는 질문 5개</td>\n",
       "      <td>743</td>\n",
       "      <td>20200611</td>\n",
       "      <td>1324995</td>\n",
       "    </tr>\n",
       "    <tr>\n",
       "      <th>142</th>\n",
       "      <td>면접관이 직접 보여주는 우리회사 떨어지면 어디 갈 거예요? 면접답변</td>\n",
       "      <td>367</td>\n",
       "      <td>20201119</td>\n",
       "      <td>1302687</td>\n",
       "    </tr>\n",
       "    <tr>\n",
       "      <th>167</th>\n",
       "      <td>면접관이 5초만 봐도 합격시키고 싶은 자소서 작성법 3가지</td>\n",
       "      <td>466</td>\n",
       "      <td>20200827</td>\n",
       "      <td>1045642</td>\n",
       "    </tr>\n",
       "    <tr>\n",
       "      <th>404</th>\n",
       "      <td>면접관이 밝히는, 마지막할말은... 아무말도 하지 말아줘! 나 힘들다고~</td>\n",
       "      <td>320</td>\n",
       "      <td>20181208</td>\n",
       "      <td>1025777</td>\n",
       "    </tr>\n",
       "    <tr>\n",
       "      <th>...</th>\n",
       "      <td>...</td>\n",
       "      <td>...</td>\n",
       "      <td>...</td>\n",
       "      <td>...</td>\n",
       "    </tr>\n",
       "    <tr>\n",
       "      <th>64</th>\n",
       "      <td>취업에 지친 취준생분들을 위한 세레나데 | WAKE UP (feat. DAE &amp; Z...</td>\n",
       "      <td>210</td>\n",
       "      <td>20210827</td>\n",
       "      <td>4525</td>\n",
       "    </tr>\n",
       "    <tr>\n",
       "      <th>245</th>\n",
       "      <td>우리 더 친해져요</td>\n",
       "      <td>198</td>\n",
       "      <td>20200110</td>\n",
       "      <td>4022</td>\n",
       "    </tr>\n",
       "    <tr>\n",
       "      <th>314</th>\n",
       "      <td>취업에 지친 리팸들을 위한 랩 - Wake up(가사주목! 여러분들을 위해 지은곡이...</td>\n",
       "      <td>415</td>\n",
       "      <td>20190508</td>\n",
       "      <td>3733</td>\n",
       "    </tr>\n",
       "    <tr>\n",
       "      <th>355</th>\n",
       "      <td>위로왕 이형 X 건강왕 리챔 by Lee:Action - 지친 청년들을 이형이 위로...</td>\n",
       "      <td>3806</td>\n",
       "      <td>20190215</td>\n",
       "      <td>2228</td>\n",
       "    </tr>\n",
       "    <tr>\n",
       "      <th>311</th>\n",
       "      <td>완전당했다!! 스승의날 이벤트 고마워요 여러분~~ 완전깜놀!!</td>\n",
       "      <td>520</td>\n",
       "      <td>20190515</td>\n",
       "      <td>2055</td>\n",
       "    </tr>\n",
       "  </tbody>\n",
       "</table>\n",
       "<p>413 rows × 4 columns</p>\n",
       "</div>"
      ],
      "text/plain": [
       "                                                 title  run_time      date  \\\n",
       "403      면접관이 밝히는, 1분 자기소개는 이렇게 해야 들린다! 정말 자기소개는 안들려요~       302  20181209   \n",
       "196                               준비 안하면 면접 광탈하는 질문 5개       743  20200611   \n",
       "142              면접관이 직접 보여주는 우리회사 떨어지면 어디 갈 거예요? 면접답변       367  20201119   \n",
       "167                   면접관이 5초만 봐도 합격시키고 싶은 자소서 작성법 3가지       466  20200827   \n",
       "404           면접관이 밝히는, 마지막할말은... 아무말도 하지 말아줘! 나 힘들다고~       320  20181208   \n",
       "..                                                 ...       ...       ...   \n",
       "64   취업에 지친 취준생분들을 위한 세레나데 | WAKE UP (feat. DAE & Z...       210  20210827   \n",
       "245                                          우리 더 친해져요       198  20200110   \n",
       "314  취업에 지친 리팸들을 위한 랩 - Wake up(가사주목! 여러분들을 위해 지은곡이...       415  20190508   \n",
       "355  위로왕 이형 X 건강왕 리챔 by Lee:Action - 지친 청년들을 이형이 위로...      3806  20190215   \n",
       "311                 완전당했다!! 스승의날 이벤트 고마워요 여러분~~ 완전깜놀!!       520  20190515   \n",
       "\n",
       "        view  \n",
       "403  1727000  \n",
       "196  1324995  \n",
       "142  1302687  \n",
       "167  1045642  \n",
       "404  1025777  \n",
       "..       ...  \n",
       "64      4525  \n",
       "245     4022  \n",
       "314     3733  \n",
       "355     2228  \n",
       "311     2055  \n",
       "\n",
       "[413 rows x 4 columns]"
      ]
     },
     "execution_count": 17,
     "metadata": {},
     "output_type": "execute_result"
    }
   ],
   "source": [
    "# except_shorts 데이터프레임 index 초기화\n",
    "except_shorts.reset_index(drop = True, inplace = True)\n",
    "\n",
    "# run_time str을 int로 형변환\n",
    "for i in range(len(except_shorts)):\n",
    "    for j in range(len(except_shorts['run_time'][i])):\n",
    "        except_shorts['run_time'][i][j] = int(except_shorts['run_time'][i][j])\n",
    "\n",
    "# run_time 초로 변환\n",
    "run_time_second = []\n",
    "\n",
    "for i in range(len(except_shorts)):\n",
    "    if len(except_shorts['run_time'][i]) == 2:\n",
    "        run_time_second.append(except_shorts['run_time'][i][0]*60 + except_shorts['run_time'][i][1])\n",
    "    else:\n",
    "        run_time_second.append(except_shorts['run_time'][i][0]*60*60 + except_shorts['run_time'][i][1]*60 + except_shorts['run_time'][i][2])\n",
    "\n",
    "except_shorts['run_time'] = run_time_second\n",
    "except_shorts.sort_values(by = 'view', ascending = False)"
   ]
  },
  {
   "cell_type": "code",
   "execution_count": 18,
   "metadata": {},
   "outputs": [],
   "source": [
    "# seaborn 한글 깨짐 해결\n",
    "\n",
    "import matplotlib.font_manager as fm\n",
    "import seaborn as sns\n",
    "import matplotlib.pyplot as plt\n",
    "\n",
    "plt.rc(\"font\", family = \"Malgun Gothic\")\n",
    "sns.set(font=\"Malgun Gothic\")"
   ]
  },
  {
   "cell_type": "code",
   "execution_count": 19,
   "metadata": {},
   "outputs": [
    {
     "data": {
      "text/html": [
       "<div>\n",
       "<style scoped>\n",
       "    .dataframe tbody tr th:only-of-type {\n",
       "        vertical-align: middle;\n",
       "    }\n",
       "\n",
       "    .dataframe tbody tr th {\n",
       "        vertical-align: top;\n",
       "    }\n",
       "\n",
       "    .dataframe thead th {\n",
       "        text-align: right;\n",
       "    }\n",
       "</style>\n",
       "<table border=\"1\" class=\"dataframe\">\n",
       "  <thead>\n",
       "    <tr style=\"text-align: right;\">\n",
       "      <th></th>\n",
       "      <th>title</th>\n",
       "      <th>run_time</th>\n",
       "      <th>date</th>\n",
       "      <th>view</th>\n",
       "    </tr>\n",
       "  </thead>\n",
       "  <tbody>\n",
       "    <tr>\n",
       "      <th>0</th>\n",
       "      <td>상반기를 이렇게 준비하면 당연히 떨어집니다</td>\n",
       "      <td>471</td>\n",
       "      <td>20220217</td>\n",
       "      <td>26080</td>\n",
       "    </tr>\n",
       "    <tr>\n",
       "      <th>1</th>\n",
       "      <td>2월에 진짜 놓치면 안 되는 것</td>\n",
       "      <td>516</td>\n",
       "      <td>20220215</td>\n",
       "      <td>55310</td>\n",
       "    </tr>\n",
       "    <tr>\n",
       "      <th>2</th>\n",
       "      <td>서류에서 매번 광탈하는 취준생 특징</td>\n",
       "      <td>4265</td>\n",
       "      <td>20220214</td>\n",
       "      <td>13909</td>\n",
       "    </tr>\n",
       "    <tr>\n",
       "      <th>3</th>\n",
       "      <td>공백기 2년, 스펙 부족 지원자에 대한 면접관의 속마음</td>\n",
       "      <td>583</td>\n",
       "      <td>20220213</td>\n",
       "      <td>32281</td>\n",
       "    </tr>\n",
       "    <tr>\n",
       "      <th>4</th>\n",
       "      <td>나도 모르게 취업이 안 되는 이유</td>\n",
       "      <td>437</td>\n",
       "      <td>20220209</td>\n",
       "      <td>16045</td>\n",
       "    </tr>\n",
       "    <tr>\n",
       "      <th>...</th>\n",
       "      <td>...</td>\n",
       "      <td>...</td>\n",
       "      <td>...</td>\n",
       "      <td>...</td>\n",
       "    </tr>\n",
       "    <tr>\n",
       "      <th>408</th>\n",
       "      <td>진짜 잘 본 면접: 면접 잘 본거 같아요? 그 기준이 뭘까요?</td>\n",
       "      <td>457</td>\n",
       "      <td>20181205</td>\n",
       "      <td>223441</td>\n",
       "    </tr>\n",
       "    <tr>\n",
       "      <th>409</th>\n",
       "      <td>면접관이 원하는, 두괄식 답변을 알려주마! (말을 짧게 하는게 두괄식이 아니야...)</td>\n",
       "      <td>276</td>\n",
       "      <td>20181205</td>\n",
       "      <td>221963</td>\n",
       "    </tr>\n",
       "    <tr>\n",
       "      <th>410</th>\n",
       "      <td>면접관이 밝히는, 면접준비의 핵심 - 수비형면접을 벗어나라</td>\n",
       "      <td>419</td>\n",
       "      <td>20181205</td>\n",
       "      <td>97103</td>\n",
       "    </tr>\n",
       "    <tr>\n",
       "      <th>411</th>\n",
       "      <td>면접 마인드셋: 성공하는 면접은 시작이 다르다!</td>\n",
       "      <td>178</td>\n",
       "      <td>20181205</td>\n",
       "      <td>41178</td>\n",
       "    </tr>\n",
       "    <tr>\n",
       "      <th>412</th>\n",
       "      <td>퇴사한 이형, 여러분께 사죄 말씀 올립니다.</td>\n",
       "      <td>227</td>\n",
       "      <td>20181205</td>\n",
       "      <td>41763</td>\n",
       "    </tr>\n",
       "  </tbody>\n",
       "</table>\n",
       "<p>413 rows × 4 columns</p>\n",
       "</div>"
      ],
      "text/plain": [
       "                                               title  run_time      date  \\\n",
       "0                            상반기를 이렇게 준비하면 당연히 떨어집니다       471  20220217   \n",
       "1                                  2월에 진짜 놓치면 안 되는 것       516  20220215   \n",
       "2                                서류에서 매번 광탈하는 취준생 특징      4265  20220214   \n",
       "3                     공백기 2년, 스펙 부족 지원자에 대한 면접관의 속마음       583  20220213   \n",
       "4                                 나도 모르게 취업이 안 되는 이유       437  20220209   \n",
       "..                                               ...       ...       ...   \n",
       "408               진짜 잘 본 면접: 면접 잘 본거 같아요? 그 기준이 뭘까요?       457  20181205   \n",
       "409  면접관이 원하는, 두괄식 답변을 알려주마! (말을 짧게 하는게 두괄식이 아니야...)       276  20181205   \n",
       "410                 면접관이 밝히는, 면접준비의 핵심 - 수비형면접을 벗어나라       419  20181205   \n",
       "411                       면접 마인드셋: 성공하는 면접은 시작이 다르다!       178  20181205   \n",
       "412                         퇴사한 이형, 여러분께 사죄 말씀 올립니다.       227  20181205   \n",
       "\n",
       "       view  \n",
       "0     26080  \n",
       "1     55310  \n",
       "2     13909  \n",
       "3     32281  \n",
       "4     16045  \n",
       "..      ...  \n",
       "408  223441  \n",
       "409  221963  \n",
       "410   97103  \n",
       "411   41178  \n",
       "412   41763  \n",
       "\n",
       "[413 rows x 4 columns]"
      ]
     },
     "execution_count": 19,
     "metadata": {},
     "output_type": "execute_result"
    }
   ],
   "source": [
    "except_shorts"
   ]
  },
  {
   "cell_type": "code",
   "execution_count": 20,
   "metadata": {},
   "outputs": [
    {
     "data": {
      "text/plain": [
       "Text(0.5, 1.0, '길이별 조회수')"
      ]
     },
     "execution_count": 20,
     "metadata": {},
     "output_type": "execute_result"
    },
    {
     "data": {
      "image/png": "[encoded data removed]",
      "text/plain": [
       "<Figure size 432x288 with 1 Axes>"
      ]
     },
     "metadata": {},
     "output_type": "display_data"
    }
   ],
   "source": [
    "sns.scatterplot(x='run_time', y='view', data = except_shorts)\n",
    "plt.title('길이별 조회수')"
   ]
  },
  {
   "cell_type": "code",
   "execution_count": 21,
   "metadata": {
    "scrolled": true
   },
   "outputs": [
    {
     "data": {
      "text/plain": [
       "Text(0.5, 1.0, '길이가 20분 이하인 영상의 조회수')"
      ]
     },
     "execution_count": 21,
     "metadata": {},
     "output_type": "execute_result"
    },
    {
     "data": {
      "image/png": "[encoded data removed]",
      "text/plain": [
       "<Figure size 432x288 with 1 Axes>"
      ]
     },
     "metadata": {},
     "output_type": "display_data"
    }
   ],
   "source": [
    "sns.scatterplot(x='run_time', y='view', data = except_shorts.sort_values(by = 'run_time')[:-11])\n",
    "plt.title('길이가 20분 이하인 영상의 조회수')"
   ]
  },
  {
   "cell_type": "markdown",
   "metadata": {},
   "source": [
    "**영상 길이와 조회수는 연관이 없다. 하지만 영상이 20분 이상 길어지면 조회수가 낮게 나온다.\n",
    "5분 ~ 13분대에 조회수가 가장 높다**"
   ]
  },
  {
   "cell_type": "markdown",
   "metadata": {},
   "source": [
    "---"
   ]
  },
  {
   "cell_type": "markdown",
   "metadata": {},
   "source": [
    "## 2) 제목 키워드와 조회수간의 관계"
   ]
  },
  {
   "cell_type": "code",
   "execution_count": 22,
   "metadata": {},
   "outputs": [
    {
     "data": {
      "text/html": [
       "<div>\n",
       "<style scoped>\n",
       "    .dataframe tbody tr th:only-of-type {\n",
       "        vertical-align: middle;\n",
       "    }\n",
       "\n",
       "    .dataframe tbody tr th {\n",
       "        vertical-align: top;\n",
       "    }\n",
       "\n",
       "    .dataframe thead th {\n",
       "        text-align: right;\n",
       "    }\n",
       "</style>\n",
       "<table border=\"1\" class=\"dataframe\">\n",
       "  <thead>\n",
       "    <tr style=\"text-align: right;\">\n",
       "      <th></th>\n",
       "      <th>title</th>\n",
       "      <th>run_time</th>\n",
       "      <th>date</th>\n",
       "      <th>view</th>\n",
       "    </tr>\n",
       "  </thead>\n",
       "  <tbody>\n",
       "    <tr>\n",
       "      <th>403</th>\n",
       "      <td>면접관이 밝히는, 1분 자기소개는 이렇게 해야 들린다! 정말 자기소개는 안들려요~</td>\n",
       "      <td>302</td>\n",
       "      <td>20181209</td>\n",
       "      <td>1727000</td>\n",
       "    </tr>\n",
       "    <tr>\n",
       "      <th>196</th>\n",
       "      <td>준비 안하면 면접 광탈하는 질문 5개</td>\n",
       "      <td>743</td>\n",
       "      <td>20200611</td>\n",
       "      <td>1324995</td>\n",
       "    </tr>\n",
       "    <tr>\n",
       "      <th>142</th>\n",
       "      <td>면접관이 직접 보여주는 우리회사 떨어지면 어디 갈 거예요? 면접답변</td>\n",
       "      <td>367</td>\n",
       "      <td>20201119</td>\n",
       "      <td>1302687</td>\n",
       "    </tr>\n",
       "    <tr>\n",
       "      <th>167</th>\n",
       "      <td>면접관이 5초만 봐도 합격시키고 싶은 자소서 작성법 3가지</td>\n",
       "      <td>466</td>\n",
       "      <td>20200827</td>\n",
       "      <td>1045642</td>\n",
       "    </tr>\n",
       "    <tr>\n",
       "      <th>404</th>\n",
       "      <td>면접관이 밝히는, 마지막할말은... 아무말도 하지 말아줘! 나 힘들다고~</td>\n",
       "      <td>320</td>\n",
       "      <td>20181208</td>\n",
       "      <td>1025777</td>\n",
       "    </tr>\n",
       "  </tbody>\n",
       "</table>\n",
       "</div>"
      ],
      "text/plain": [
       "                                             title  run_time      date  \\\n",
       "403  면접관이 밝히는, 1분 자기소개는 이렇게 해야 들린다! 정말 자기소개는 안들려요~       302  20181209   \n",
       "196                           준비 안하면 면접 광탈하는 질문 5개       743  20200611   \n",
       "142          면접관이 직접 보여주는 우리회사 떨어지면 어디 갈 거예요? 면접답변       367  20201119   \n",
       "167               면접관이 5초만 봐도 합격시키고 싶은 자소서 작성법 3가지       466  20200827   \n",
       "404       면접관이 밝히는, 마지막할말은... 아무말도 하지 말아줘! 나 힘들다고~       320  20181208   \n",
       "\n",
       "        view  \n",
       "403  1727000  \n",
       "196  1324995  \n",
       "142  1302687  \n",
       "167  1045642  \n",
       "404  1025777  "
      ]
     },
     "execution_count": 22,
     "metadata": {},
     "output_type": "execute_result"
    }
   ],
   "source": [
    "except_shorts.sort_values(by='view', ascending = False).head()"
   ]
  },
  {
   "cell_type": "markdown",
   "metadata": {},
   "source": [
    "### 2-1) 1분 자기소개 영상이 가장 높음 (이상치)"
   ]
  },
  {
   "cell_type": "code",
   "execution_count": 23,
   "metadata": {},
   "outputs": [
    {
     "data": {
      "image/png": "[encoded data removed]",
      "text/plain": [
       "<Figure size 432x288 with 1 Axes>"
      ]
     },
     "metadata": {},
     "output_type": "display_data"
    }
   ],
   "source": [
    "fig, ax = plt.subplots()\n",
    "\n",
    "ax.boxplot(except_shorts['view'])\n",
    "\n",
    "plt.show()"
   ]
  },
  {
   "cell_type": "code",
   "execution_count": 24,
   "metadata": {},
   "outputs": [
    {
     "data": {
      "text/html": [
       "<div>\n",
       "<style scoped>\n",
       "    .dataframe tbody tr th:only-of-type {\n",
       "        vertical-align: middle;\n",
       "    }\n",
       "\n",
       "    .dataframe tbody tr th {\n",
       "        vertical-align: top;\n",
       "    }\n",
       "\n",
       "    .dataframe thead th {\n",
       "        text-align: right;\n",
       "    }\n",
       "</style>\n",
       "<table border=\"1\" class=\"dataframe\">\n",
       "  <thead>\n",
       "    <tr style=\"text-align: right;\">\n",
       "      <th></th>\n",
       "      <th>title</th>\n",
       "      <th>run_time</th>\n",
       "      <th>date</th>\n",
       "      <th>view</th>\n",
       "    </tr>\n",
       "  </thead>\n",
       "  <tbody>\n",
       "    <tr>\n",
       "      <th>403</th>\n",
       "      <td>면접관이 밝히는, 1분 자기소개는 이렇게 해야 들린다! 정말 자기소개는 안들려요~</td>\n",
       "      <td>302</td>\n",
       "      <td>20181209</td>\n",
       "      <td>1727000</td>\n",
       "    </tr>\n",
       "  </tbody>\n",
       "</table>\n",
       "</div>"
      ],
      "text/plain": [
       "                                             title  run_time      date  \\\n",
       "403  면접관이 밝히는, 1분 자기소개는 이렇게 해야 들린다! 정말 자기소개는 안들려요~       302  20181209   \n",
       "\n",
       "        view  \n",
       "403  1727000  "
      ]
     },
     "execution_count": 24,
     "metadata": {},
     "output_type": "execute_result"
    }
   ],
   "source": [
    "except_shorts[except_shorts['view'] == max(except_shorts['view'])]"
   ]
  },
  {
   "cell_type": "markdown",
   "metadata": {},
   "source": [
    "- 1분 자기소개 영상은 여러개인데 왜 저것만 높을까?"
   ]
  },
  {
   "cell_type": "code",
   "execution_count": 25,
   "metadata": {},
   "outputs": [
    {
     "name": "stdout",
     "output_type": "stream",
     "text": [
      "영상 개수: 18 개\n"
     ]
    }
   ],
   "source": [
    "oneminute = []\n",
    "oneminute_sum = 0\n",
    "for i in range(len(except_shorts)):\n",
    "    if '1분' in except_shorts['title'][i]:\n",
    "        oneminute.append(except_shorts.iloc[i][['title','view', 'run_time']])\n",
    "        oneminute_sum += 1\n",
    "oneminute = pd.DataFrame(oneminute)\n",
    "print('영상 개수:', oneminute_sum,'개')"
   ]
  },
  {
   "cell_type": "code",
   "execution_count": 26,
   "metadata": {},
   "outputs": [
    {
     "data": {
      "text/plain": [
       "Text(0.5, 1.0, '영상 길이 별 1분 자기소개 영상 조회수')"
      ]
     },
     "execution_count": 26,
     "metadata": {},
     "output_type": "execute_result"
    },
    {
     "data": {
      "image/png": "[encoded data removed]",
      "text/plain": [
       "<Figure size 432x288 with 1 Axes>"
      ]
     },
     "metadata": {},
     "output_type": "display_data"
    }
   ],
   "source": [
    "sns.scatterplot(x='run_time', y='view', data=oneminute)\n",
    "plt.title('영상 길이 별 1분 자기소개 영상 조회수')"
   ]
  },
  {
   "cell_type": "markdown",
   "metadata": {},
   "source": [
    "- 영상 길이가 짧으니까 조회수가 높네. 전체 영상도 길이가 짧아야 조회수가 잘나오나? -> 아님"
   ]
  },
  {
   "cell_type": "code",
   "execution_count": 27,
   "metadata": {},
   "outputs": [
    {
     "data": {
      "text/plain": [
       "Text(0.5, 1.0, '20분 이하 영상의 조회수')"
      ]
     },
     "execution_count": 27,
     "metadata": {},
     "output_type": "execute_result"
    },
    {
     "data": {
      "image/png": "[encoded data removed]",
      "text/plain": [
       "<Figure size 432x288 with 1 Axes>"
      ]
     },
     "metadata": {},
     "output_type": "display_data"
    }
   ],
   "source": [
    "sns.scatterplot(x='run_time', y='view', data = except_shorts.sort_values(by = 'run_time')[:-11])\n",
    "plt.title('20분 이하 영상의 조회수')"
   ]
  },
  {
   "cell_type": "markdown",
   "metadata": {},
   "source": [
    "- 오래된 영상이라 누적 조회수가 높게 나온건가? -> 살짝 가능성 있음"
   ]
  },
  {
   "cell_type": "code",
   "execution_count": 28,
   "metadata": {},
   "outputs": [
    {
     "data": {
      "text/html": [
       "<div>\n",
       "<style scoped>\n",
       "    .dataframe tbody tr th:only-of-type {\n",
       "        vertical-align: middle;\n",
       "    }\n",
       "\n",
       "    .dataframe tbody tr th {\n",
       "        vertical-align: top;\n",
       "    }\n",
       "\n",
       "    .dataframe thead th {\n",
       "        text-align: right;\n",
       "    }\n",
       "</style>\n",
       "<table border=\"1\" class=\"dataframe\">\n",
       "  <thead>\n",
       "    <tr style=\"text-align: right;\">\n",
       "      <th></th>\n",
       "      <th>title</th>\n",
       "      <th>view</th>\n",
       "      <th>run_time</th>\n",
       "      <th>date</th>\n",
       "    </tr>\n",
       "  </thead>\n",
       "  <tbody>\n",
       "    <tr>\n",
       "      <th>43</th>\n",
       "      <td>1분자기소개 후에 이 질문 받으면 합격입니다</td>\n",
       "      <td>139148</td>\n",
       "      <td>640</td>\n",
       "      <td>20211104</td>\n",
       "    </tr>\n",
       "    <tr>\n",
       "      <th>46</th>\n",
       "      <td>면접관이 1분자기소개를 시키는 이유의 모든것 (신입부터 경력까지)</td>\n",
       "      <td>107842</td>\n",
       "      <td>1052</td>\n",
       "      <td>20211018</td>\n",
       "    </tr>\n",
       "    <tr>\n",
       "      <th>95</th>\n",
       "      <td>불합격/합격 예시로 보여주는 1분 자기소개 (feat. 사례있음)</td>\n",
       "      <td>90184</td>\n",
       "      <td>874</td>\n",
       "      <td>20210511</td>\n",
       "    </tr>\n",
       "    <tr>\n",
       "      <th>112</th>\n",
       "      <td>[면접연구소] 직접 보여주는 1분 자기소개 핵심 요약</td>\n",
       "      <td>83383</td>\n",
       "      <td>189</td>\n",
       "      <td>20210330</td>\n",
       "    </tr>\n",
       "    <tr>\n",
       "      <th>140</th>\n",
       "      <td>면접관이 듣기만해도 불합격시키고 싶은 1분 자기소개</td>\n",
       "      <td>832956</td>\n",
       "      <td>704</td>\n",
       "      <td>20201124</td>\n",
       "    </tr>\n",
       "    <tr>\n",
       "      <th>151</th>\n",
       "      <td>면접관이 직접 밝히는 1분자기소개 오해 3가지</td>\n",
       "      <td>88841</td>\n",
       "      <td>631</td>\n",
       "      <td>20201022</td>\n",
       "    </tr>\n",
       "    <tr>\n",
       "      <th>156</th>\n",
       "      <td>면접관이 직접 보여주는 합격하는 1분 자기소개</td>\n",
       "      <td>625391</td>\n",
       "      <td>425</td>\n",
       "      <td>20201007</td>\n",
       "    </tr>\n",
       "    <tr>\n",
       "      <th>188</th>\n",
       "      <td>면접관이 답답해서 밝히는, 합격하는 1분 자기소개! 꼭 안보고 떨어지더라...</td>\n",
       "      <td>473501</td>\n",
       "      <td>505</td>\n",
       "      <td>20200630</td>\n",
       "    </tr>\n",
       "    <tr>\n",
       "      <th>262</th>\n",
       "      <td>당신의 1분자기소개에 면접관이 눈길을 주지 않는 이유</td>\n",
       "      <td>40500</td>\n",
       "      <td>407</td>\n",
       "      <td>20191024</td>\n",
       "    </tr>\n",
       "    <tr>\n",
       "      <th>263</th>\n",
       "      <td>면접평가표에서 1분 자기소개는 얼마나 영향을 미칠까? (feat. 면접전략의 중요성)</td>\n",
       "      <td>27841</td>\n",
       "      <td>220</td>\n",
       "      <td>20191021</td>\n",
       "    </tr>\n",
       "    <tr>\n",
       "      <th>345</th>\n",
       "      <td>비즈니스는 숫자가 핵심! 1분자기소개 &amp; 자소서 수치화 연습방법! (광고 아닌데 이...</td>\n",
       "      <td>12619</td>\n",
       "      <td>291</td>\n",
       "      <td>20190311</td>\n",
       "    </tr>\n",
       "    <tr>\n",
       "      <th>350</th>\n",
       "      <td>1분자기소개, 자소서... 숫자로 멋지게 표현하고 싶은데 어렵죠? 그 이유부터 알아...</td>\n",
       "      <td>18254</td>\n",
       "      <td>299</td>\n",
       "      <td>20190227</td>\n",
       "    </tr>\n",
       "    <tr>\n",
       "      <th>351</th>\n",
       "      <td>[자소서 소제목, 1분 자기소개 ] 나를 한문장, 한단어로 엣지있게 표현하는법 - ...</td>\n",
       "      <td>45194</td>\n",
       "      <td>391</td>\n",
       "      <td>20190225</td>\n",
       "    </tr>\n",
       "    <tr>\n",
       "      <th>387</th>\n",
       "      <td>구독자의 1분자기소개를 피드백한다 4탄! 이쯤되면 질문도 가능~!!</td>\n",
       "      <td>36430</td>\n",
       "      <td>520</td>\n",
       "      <td>20181225</td>\n",
       "    </tr>\n",
       "    <tr>\n",
       "      <th>391</th>\n",
       "      <td>구독자의 1분 자기소개를 직접 피드백한다 3탄 - 해외파 쿨남님</td>\n",
       "      <td>19217</td>\n",
       "      <td>607</td>\n",
       "      <td>20181221</td>\n",
       "    </tr>\n",
       "    <tr>\n",
       "      <th>394</th>\n",
       "      <td>구독자의 1분 자기소개를 직접 피드백한다 2탄 - 해외거주 상사맨님</td>\n",
       "      <td>19031</td>\n",
       "      <td>611</td>\n",
       "      <td>20181218</td>\n",
       "    </tr>\n",
       "    <tr>\n",
       "      <th>396</th>\n",
       "      <td>구독자의 1분자기소개를 직접 피드백한다 1탄 - 고래같은 상사맨님</td>\n",
       "      <td>45952</td>\n",
       "      <td>662</td>\n",
       "      <td>20181216</td>\n",
       "    </tr>\n",
       "    <tr>\n",
       "      <th>403</th>\n",
       "      <td>면접관이 밝히는, 1분 자기소개는 이렇게 해야 들린다! 정말 자기소개는 안들려요~</td>\n",
       "      <td>1727000</td>\n",
       "      <td>302</td>\n",
       "      <td>20181209</td>\n",
       "    </tr>\n",
       "  </tbody>\n",
       "</table>\n",
       "</div>"
      ],
      "text/plain": [
       "                                                 title     view  run_time  \\\n",
       "43                            1분자기소개 후에 이 질문 받으면 합격입니다   139148       640   \n",
       "46                면접관이 1분자기소개를 시키는 이유의 모든것 (신입부터 경력까지)   107842      1052   \n",
       "95                불합격/합격 예시로 보여주는 1분 자기소개 (feat. 사례있음)    90184       874   \n",
       "112                      [면접연구소] 직접 보여주는 1분 자기소개 핵심 요약    83383       189   \n",
       "140                       면접관이 듣기만해도 불합격시키고 싶은 1분 자기소개   832956       704   \n",
       "151                          면접관이 직접 밝히는 1분자기소개 오해 3가지    88841       631   \n",
       "156                          면접관이 직접 보여주는 합격하는 1분 자기소개   625391       425   \n",
       "188        면접관이 답답해서 밝히는, 합격하는 1분 자기소개! 꼭 안보고 떨어지더라...   473501       505   \n",
       "262                      당신의 1분자기소개에 면접관이 눈길을 주지 않는 이유    40500       407   \n",
       "263    면접평가표에서 1분 자기소개는 얼마나 영향을 미칠까? (feat. 면접전략의 중요성)    27841       220   \n",
       "345  비즈니스는 숫자가 핵심! 1분자기소개 & 자소서 수치화 연습방법! (광고 아닌데 이...    12619       291   \n",
       "350  1분자기소개, 자소서... 숫자로 멋지게 표현하고 싶은데 어렵죠? 그 이유부터 알아...    18254       299   \n",
       "351  [자소서 소제목, 1분 자기소개 ] 나를 한문장, 한단어로 엣지있게 표현하는법 - ...    45194       391   \n",
       "387              구독자의 1분자기소개를 피드백한다 4탄! 이쯤되면 질문도 가능~!!    36430       520   \n",
       "391                구독자의 1분 자기소개를 직접 피드백한다 3탄 - 해외파 쿨남님    19217       607   \n",
       "394              구독자의 1분 자기소개를 직접 피드백한다 2탄 - 해외거주 상사맨님    19031       611   \n",
       "396               구독자의 1분자기소개를 직접 피드백한다 1탄 - 고래같은 상사맨님    45952       662   \n",
       "403      면접관이 밝히는, 1분 자기소개는 이렇게 해야 들린다! 정말 자기소개는 안들려요~  1727000       302   \n",
       "\n",
       "         date  \n",
       "43   20211104  \n",
       "46   20211018  \n",
       "95   20210511  \n",
       "112  20210330  \n",
       "140  20201124  \n",
       "151  20201022  \n",
       "156  20201007  \n",
       "188  20200630  \n",
       "262  20191024  \n",
       "263  20191021  \n",
       "345  20190311  \n",
       "350  20190227  \n",
       "351  20190225  \n",
       "387  20181225  \n",
       "391  20181221  \n",
       "394  20181218  \n",
       "396  20181216  \n",
       "403  20181209  "
      ]
     },
     "execution_count": 28,
     "metadata": {},
     "output_type": "execute_result"
    }
   ],
   "source": [
    "oneminute['date'] = except_shorts['date']\n",
    "oneminute"
   ]
  },
  {
   "cell_type": "code",
   "execution_count": 29,
   "metadata": {},
   "outputs": [
    {
     "data": {
      "text/plain": [
       "Text(0.5, 1.0, '날짜별 1분 자기소개서 조회수')"
      ]
     },
     "execution_count": 29,
     "metadata": {},
     "output_type": "execute_result"
    },
    {
     "data": {
      "image/png": "[encoded data removed]",
      "text/plain": [
       "<Figure size 432x288 with 1 Axes>"
      ]
     },
     "metadata": {},
     "output_type": "display_data"
    }
   ],
   "source": [
    "sns.scatterplot(x='date', y='view', data = oneminute)\n",
    "plt.title('날짜별 1분 자기소개서 조회수')"
   ]
  },
  {
   "cell_type": "code",
   "execution_count": 30,
   "metadata": {},
   "outputs": [
    {
     "data": {
      "text/plain": [
       "Text(0.5, 1.0, '날짜별 조회수')"
      ]
     },
     "execution_count": 30,
     "metadata": {},
     "output_type": "execute_result"
    },
    {
     "data": {
      "image/png": "[encoded data removed]",
      "text/plain": [
       "<Figure size 432x288 with 1 Axes>"
      ]
     },
     "metadata": {},
     "output_type": "display_data"
    }
   ],
   "source": [
    "sns.scatterplot(x='date', y='view', data = except_shorts)\n",
    "plt.title('날짜별 조회수')"
   ]
  },
  {
   "cell_type": "markdown",
   "metadata": {},
   "source": [
    "**영상 하나가 172만뷰로 유난히 높다**\n",
    "- **회색 썸네일**\n",
    "- 시간이 갈 수록 조회수가 줄어듦"
   ]
  },
  {
   "cell_type": "markdown",
   "metadata": {},
   "source": [
    "### 연도별 영상수 대비 조회수"
   ]
  },
  {
   "cell_type": "code",
   "execution_count": 31,
   "metadata": {},
   "outputs": [
    {
     "name": "stdout",
     "output_type": "stream",
     "text": [
      "216171 87990 132912 46466\n"
     ]
    }
   ],
   "source": [
    "sum_2018, sum_2019, sum_2020, sum_2021 = 0,0,0,0\n",
    "view_2018, view_2019, view_2020, view_2021 = 0,0,0,0\n",
    "\n",
    "for i in range(len(except_shorts)):\n",
    "    if except_shorts['date'][i]//10000 == 2018:\n",
    "        view_2018 += except_shorts['view'][i]\n",
    "        sum_2018 += 1\n",
    "    elif except_shorts['date'][i]//10000 == 2019:\n",
    "        view_2019 += except_shorts['view'][i]\n",
    "        sum_2019 += 1\n",
    "    elif except_shorts['date'][i]//10000 == 2020:\n",
    "        view_2020 += except_shorts['view'][i]\n",
    "        sum_2020 += 1\n",
    "    elif except_shorts['date'][i]//10000 == 2021:\n",
    "        view_2021 += except_shorts['view'][i]\n",
    "        sum_2021 += 1\n",
    "print(int(view_2018/sum_2018), int(view_2019/sum_2019), int(view_2020/sum_2020), int(view_2021/sum_2021))"
   ]
  },
  {
   "cell_type": "code",
   "execution_count": 32,
   "metadata": {},
   "outputs": [
    {
     "data": {
      "image/png": "[encoded data removed]",
      "text/plain": [
       "<Figure size 432x288 with 1 Axes>"
      ]
     },
     "metadata": {},
     "output_type": "display_data"
    }
   ],
   "source": [
    "x = np.arange(4)\n",
    "types = ['2018', '2019', '2020', '2021']\n",
    "values = [int(view_2018/sum_2018), int(view_2019/sum_2019),  int(view_2020/sum_2020), int(view_2021/sum_2021)]\n",
    "\n",
    "plt.bar(x, values)\n",
    "plt.xticks(x, types)\n",
    "\n",
    "plt.show()"
   ]
  },
  {
   "cell_type": "markdown",
   "metadata": {},
   "source": [
    "- 시간이 갈수록 조회수가 줄어든다\n",
    "- 2020년에는 조회수가 왜 갑자기 늘었을까?"
   ]
  },
  {
   "cell_type": "markdown",
   "metadata": {},
   "source": [
    "### 2020년 영상 분석"
   ]
  },
  {
   "cell_type": "code",
   "execution_count": 33,
   "metadata": {},
   "outputs": [],
   "source": [
    "df_2020 = except_shorts[except_shorts['date']//10000 == 2020]"
   ]
  },
  {
   "cell_type": "code",
   "execution_count": 34,
   "metadata": {
    "scrolled": true
   },
   "outputs": [
    {
     "data": {
      "text/html": [
       "<div>\n",
       "<style scoped>\n",
       "    .dataframe tbody tr th:only-of-type {\n",
       "        vertical-align: middle;\n",
       "    }\n",
       "\n",
       "    .dataframe tbody tr th {\n",
       "        vertical-align: top;\n",
       "    }\n",
       "\n",
       "    .dataframe thead th {\n",
       "        text-align: right;\n",
       "    }\n",
       "</style>\n",
       "<table border=\"1\" class=\"dataframe\">\n",
       "  <thead>\n",
       "    <tr style=\"text-align: right;\">\n",
       "      <th></th>\n",
       "      <th>title</th>\n",
       "      <th>run_time</th>\n",
       "      <th>date</th>\n",
       "      <th>view</th>\n",
       "    </tr>\n",
       "  </thead>\n",
       "  <tbody>\n",
       "    <tr>\n",
       "      <th>131</th>\n",
       "      <td>선택하면 안되는 계약직ㅣ계약직 고르는 기준 3가지</td>\n",
       "      <td>557</td>\n",
       "      <td>20201228</td>\n",
       "      <td>111846</td>\n",
       "    </tr>\n",
       "    <tr>\n",
       "      <th>132</th>\n",
       "      <td>중소기업을 고르는 기준 3가지</td>\n",
       "      <td>824</td>\n",
       "      <td>20201221</td>\n",
       "      <td>417890</td>\n",
       "    </tr>\n",
       "    <tr>\n",
       "      <th>133</th>\n",
       "      <td>면접관이 뽑을 수밖에 없는 경험</td>\n",
       "      <td>462</td>\n",
       "      <td>20201216</td>\n",
       "      <td>39404</td>\n",
       "    </tr>\n",
       "    <tr>\n",
       "      <th>134</th>\n",
       "      <td>비시즌 취준생이 반드시 체크해야하는 3가지</td>\n",
       "      <td>624</td>\n",
       "      <td>20201210</td>\n",
       "      <td>23749</td>\n",
       "    </tr>\n",
       "    <tr>\n",
       "      <th>135</th>\n",
       "      <td>2020년 취업준비 이대로 괜찮은가 고민이라면 꼭 보세요</td>\n",
       "      <td>723</td>\n",
       "      <td>20201208</td>\n",
       "      <td>24759</td>\n",
       "    </tr>\n",
       "    <tr>\n",
       "      <th>...</th>\n",
       "      <td>...</td>\n",
       "      <td>...</td>\n",
       "      <td>...</td>\n",
       "      <td>...</td>\n",
       "    </tr>\n",
       "    <tr>\n",
       "      <th>243</th>\n",
       "      <td>성공경험이 없다는 취준생들이 꼭 봐야하는 영상</td>\n",
       "      <td>367</td>\n",
       "      <td>20200116</td>\n",
       "      <td>52563</td>\n",
       "    </tr>\n",
       "    <tr>\n",
       "      <th>244</th>\n",
       "      <td>산업을 정하기 힘든 취준생이라면 기억해야하는 세가지 꿀팁</td>\n",
       "      <td>247</td>\n",
       "      <td>20200114</td>\n",
       "      <td>21243</td>\n",
       "    </tr>\n",
       "    <tr>\n",
       "      <th>245</th>\n",
       "      <td>우리 더 친해져요</td>\n",
       "      <td>198</td>\n",
       "      <td>20200110</td>\n",
       "      <td>4022</td>\n",
       "    </tr>\n",
       "    <tr>\n",
       "      <th>246</th>\n",
       "      <td>상반기를 준비하는 취준생이라면 꼭! 체크해야하는 세가지</td>\n",
       "      <td>314</td>\n",
       "      <td>20200107</td>\n",
       "      <td>13893</td>\n",
       "    </tr>\n",
       "    <tr>\n",
       "      <th>247</th>\n",
       "      <td>면접관이 취준생에게 바라는 간절함이 뭔가요?</td>\n",
       "      <td>340</td>\n",
       "      <td>20200102</td>\n",
       "      <td>19976</td>\n",
       "    </tr>\n",
       "  </tbody>\n",
       "</table>\n",
       "<p>117 rows × 4 columns</p>\n",
       "</div>"
      ],
      "text/plain": [
       "                               title  run_time      date    view\n",
       "131      선택하면 안되는 계약직ㅣ계약직 고르는 기준 3가지       557  20201228  111846\n",
       "132                 중소기업을 고르는 기준 3가지       824  20201221  417890\n",
       "133                면접관이 뽑을 수밖에 없는 경험       462  20201216   39404\n",
       "134          비시즌 취준생이 반드시 체크해야하는 3가지       624  20201210   23749\n",
       "135  2020년 취업준비 이대로 괜찮은가 고민이라면 꼭 보세요       723  20201208   24759\n",
       "..                               ...       ...       ...     ...\n",
       "243        성공경험이 없다는 취준생들이 꼭 봐야하는 영상       367  20200116   52563\n",
       "244  산업을 정하기 힘든 취준생이라면 기억해야하는 세가지 꿀팁       247  20200114   21243\n",
       "245                        우리 더 친해져요       198  20200110    4022\n",
       "246   상반기를 준비하는 취준생이라면 꼭! 체크해야하는 세가지       314  20200107   13893\n",
       "247         면접관이 취준생에게 바라는 간절함이 뭔가요?       340  20200102   19976\n",
       "\n",
       "[117 rows x 4 columns]"
      ]
     },
     "execution_count": 34,
     "metadata": {},
     "output_type": "execute_result"
    }
   ],
   "source": [
    "df_2020"
   ]
  },
  {
   "cell_type": "markdown",
   "metadata": {},
   "source": [
    "---"
   ]
  },
  {
   "cell_type": "markdown",
   "metadata": {},
   "source": [
    "---"
   ]
  },
  {
   "cell_type": "markdown",
   "metadata": {},
   "source": [
    "- 조회수 상위 10개"
   ]
  },
  {
   "cell_type": "code",
   "execution_count": 35,
   "metadata": {},
   "outputs": [
    {
     "data": {
      "text/html": [
       "<div>\n",
       "<style scoped>\n",
       "    .dataframe tbody tr th:only-of-type {\n",
       "        vertical-align: middle;\n",
       "    }\n",
       "\n",
       "    .dataframe tbody tr th {\n",
       "        vertical-align: top;\n",
       "    }\n",
       "\n",
       "    .dataframe thead th {\n",
       "        text-align: right;\n",
       "    }\n",
       "</style>\n",
       "<table border=\"1\" class=\"dataframe\">\n",
       "  <thead>\n",
       "    <tr style=\"text-align: right;\">\n",
       "      <th></th>\n",
       "      <th>title</th>\n",
       "      <th>run_time</th>\n",
       "      <th>date</th>\n",
       "      <th>view</th>\n",
       "    </tr>\n",
       "  </thead>\n",
       "  <tbody>\n",
       "    <tr>\n",
       "      <th>403</th>\n",
       "      <td>면접관이 밝히는, 1분 자기소개는 이렇게 해야 들린다! 정말 자기소개는 안들려요~</td>\n",
       "      <td>302</td>\n",
       "      <td>20181209</td>\n",
       "      <td>1727000</td>\n",
       "    </tr>\n",
       "    <tr>\n",
       "      <th>196</th>\n",
       "      <td>준비 안하면 면접 광탈하는 질문 5개</td>\n",
       "      <td>743</td>\n",
       "      <td>20200611</td>\n",
       "      <td>1324995</td>\n",
       "    </tr>\n",
       "    <tr>\n",
       "      <th>142</th>\n",
       "      <td>면접관이 직접 보여주는 우리회사 떨어지면 어디 갈 거예요? 면접답변</td>\n",
       "      <td>367</td>\n",
       "      <td>20201119</td>\n",
       "      <td>1302687</td>\n",
       "    </tr>\n",
       "    <tr>\n",
       "      <th>167</th>\n",
       "      <td>면접관이 5초만 봐도 합격시키고 싶은 자소서 작성법 3가지</td>\n",
       "      <td>466</td>\n",
       "      <td>20200827</td>\n",
       "      <td>1045642</td>\n",
       "    </tr>\n",
       "    <tr>\n",
       "      <th>404</th>\n",
       "      <td>면접관이 밝히는, 마지막할말은... 아무말도 하지 말아줘! 나 힘들다고~</td>\n",
       "      <td>320</td>\n",
       "      <td>20181208</td>\n",
       "      <td>1025777</td>\n",
       "    </tr>\n",
       "    <tr>\n",
       "      <th>140</th>\n",
       "      <td>면접관이 듣기만해도 불합격시키고 싶은 1분 자기소개</td>\n",
       "      <td>704</td>\n",
       "      <td>20201124</td>\n",
       "      <td>832956</td>\n",
       "    </tr>\n",
       "    <tr>\n",
       "      <th>367</th>\n",
       "      <td>면접관이 들어본 최고의 답변, 퇴직사유 뭐라고 하지?</td>\n",
       "      <td>449</td>\n",
       "      <td>20190125</td>\n",
       "      <td>801307</td>\n",
       "    </tr>\n",
       "    <tr>\n",
       "      <th>397</th>\n",
       "      <td>면접관이 밝힌다! 임원면접관도 반하는 입사후 포부!</td>\n",
       "      <td>697</td>\n",
       "      <td>20181215</td>\n",
       "      <td>689925</td>\n",
       "    </tr>\n",
       "    <tr>\n",
       "      <th>372</th>\n",
       "      <td>면접관이 알려주는 \"상사가 부당한 업무를 지시한다면?\"질문의도!</td>\n",
       "      <td>456</td>\n",
       "      <td>20190117</td>\n",
       "      <td>671097</td>\n",
       "    </tr>\n",
       "    <tr>\n",
       "      <th>156</th>\n",
       "      <td>면접관이 직접 보여주는 합격하는 1분 자기소개</td>\n",
       "      <td>425</td>\n",
       "      <td>20201007</td>\n",
       "      <td>625391</td>\n",
       "    </tr>\n",
       "  </tbody>\n",
       "</table>\n",
       "</div>"
      ],
      "text/plain": [
       "                                             title  run_time      date  \\\n",
       "403  면접관이 밝히는, 1분 자기소개는 이렇게 해야 들린다! 정말 자기소개는 안들려요~       302  20181209   \n",
       "196                           준비 안하면 면접 광탈하는 질문 5개       743  20200611   \n",
       "142          면접관이 직접 보여주는 우리회사 떨어지면 어디 갈 거예요? 면접답변       367  20201119   \n",
       "167               면접관이 5초만 봐도 합격시키고 싶은 자소서 작성법 3가지       466  20200827   \n",
       "404       면접관이 밝히는, 마지막할말은... 아무말도 하지 말아줘! 나 힘들다고~       320  20181208   \n",
       "140                   면접관이 듣기만해도 불합격시키고 싶은 1분 자기소개       704  20201124   \n",
       "367                  면접관이 들어본 최고의 답변, 퇴직사유 뭐라고 하지?       449  20190125   \n",
       "397                   면접관이 밝힌다! 임원면접관도 반하는 입사후 포부!       697  20181215   \n",
       "372            면접관이 알려주는 \"상사가 부당한 업무를 지시한다면?\"질문의도!       456  20190117   \n",
       "156                      면접관이 직접 보여주는 합격하는 1분 자기소개       425  20201007   \n",
       "\n",
       "        view  \n",
       "403  1727000  \n",
       "196  1324995  \n",
       "142  1302687  \n",
       "167  1045642  \n",
       "404  1025777  \n",
       "140   832956  \n",
       "367   801307  \n",
       "397   689925  \n",
       "372   671097  \n",
       "156   625391  "
      ]
     },
     "execution_count": 35,
     "metadata": {},
     "output_type": "execute_result"
    }
   ],
   "source": [
    "except_shorts.sort_values(by = 'view', ascending = False)[:10]"
   ]
  },
  {
   "cell_type": "markdown",
   "metadata": {},
   "source": [
    "1. 조회수 상위 10개 중 1분 자기소개 3개 포함됨"
   ]
  },
  {
   "cell_type": "code",
   "execution_count": 36,
   "metadata": {},
   "outputs": [
    {
     "name": "stdout",
     "output_type": "stream",
     "text": [
      "영상 개수: 18 개, 1분 자기소개 평균 조회수 246293.56 영상 평균 조회수 : 96792.85\n"
     ]
    }
   ],
   "source": [
    "oneminute = []\n",
    "oneminute_sum = 0\n",
    "for i in range(len(except_shorts)):\n",
    "    if '1분' in except_shorts['title'][i]:\n",
    "        oneminute.append(except_shorts.iloc[i][['title','view', 'run_time']])\n",
    "        oneminute_sum += 1\n",
    "oneminute = pd.DataFrame(oneminute)\n",
    "print('영상 개수:', oneminute_sum,'개, 1분 자기소개 평균 조회수', round(oneminute['view'].mean(),2), '영상 평균 조회수 :', round(except_shorts['view'].mean(),2))\n"
   ]
  },
  {
   "cell_type": "markdown",
   "metadata": {},
   "source": [
    "2. 이형이 직접 보여주는 영상 (시뮬레이션 영상)이 2개 포함됨"
   ]
  },
  {
   "cell_type": "code",
   "execution_count": 37,
   "metadata": {},
   "outputs": [
    {
     "name": "stdout",
     "output_type": "stream",
     "text": [
      "영상 개수: 8 개, 시뮬레이션 평균 조회수 : 287624.75 영상 평균 조회수 : 96792.85\n"
     ]
    }
   ],
   "source": [
    "simulation = []\n",
    "simulation_sum = 0\n",
    "for i in range(len(except_shorts)):\n",
    "    if '직접 보여주는' in except_shorts['title'][i]:\n",
    "        simulation.append(except_shorts.iloc[i][['title','view', 'run_time']])\n",
    "        simulation_sum += 1\n",
    "simulation = pd.DataFrame(simulation)\n",
    "print('영상 개수:', simulation_sum,'개, 시뮬레이션 평균 조회수 :', round(simulation['view'].mean(),2), '영상 평균 조회수 :', round(except_shorts['view'].mean(),2))"
   ]
  },
  {
   "cell_type": "markdown",
   "metadata": {},
   "source": [
    "3. 자소서 관련 영상"
   ]
  },
  {
   "cell_type": "code",
   "execution_count": 38,
   "metadata": {},
   "outputs": [
    {
     "name": "stdout",
     "output_type": "stream",
     "text": [
      "영상 개수: 51 개, 자소서 평균 조회수 : 66861.39 영상 평균 조회수 : 96792.85\n"
     ]
    }
   ],
   "source": [
    "jasoseo = []\n",
    "sum_jasoseo = 0\n",
    "for i in range(len(except_shorts)):\n",
    "    if '자소서' in except_shorts['title'][i]:\n",
    "        jasoseo.append(except_shorts.iloc[i][['title','view', 'run_time']])\n",
    "        sum_jasoseo += 1\n",
    "jasoseo = pd.DataFrame(jasoseo)\n",
    "print('영상 개수:',sum_jasoseo,'개, 자소서 평균 조회수 :', round(jasoseo['view'].mean(),2), '영상 평균 조회수 :', round(except_shorts['view'].mean(),2))"
   ]
  },
  {
   "cell_type": "markdown",
   "metadata": {},
   "source": [
    "4. 마지막 할 말"
   ]
  },
  {
   "cell_type": "code",
   "execution_count": 39,
   "metadata": {},
   "outputs": [
    {
     "name": "stdout",
     "output_type": "stream",
     "text": [
      "영상 개수: 3 개, 마지막 할 말 평균 조회수 : 445474.3333333333 영상 평균 조회수 : 96792.84745762713\n"
     ]
    }
   ],
   "source": [
    "final_say = []\n",
    "final_say_sum = 0\n",
    "for i in range(len(except_shorts)):\n",
    "    if '마지막' in except_shorts['title'][i]:\n",
    "        final_say.append(except_shorts.iloc[i][['title','view', 'run_time']])\n",
    "        final_say_sum += 1\n",
    "final_say = pd.DataFrame(final_say)\n",
    "print('영상 개수:',final_say_sum,'개, 마지막 할 말 평균 조회수 :', final_say['view'].mean(), '영상 평균 조회수 :', except_shorts['view'].mean())"
   ]
  },
  {
   "cell_type": "markdown",
   "metadata": {},
   "source": [
    "전체 영상 비교"
   ]
  },
  {
   "cell_type": "code",
   "execution_count": 40,
   "metadata": {},
   "outputs": [
    {
     "name": "stderr",
     "output_type": "stream",
     "text": [
      "No handles with labels found to put in legend.\n"
     ]
    },
    {
     "data": {
      "image/png": "[encoded data removed]",
      "text/plain": [
       "<Figure size 432x288 with 1 Axes>"
      ]
     },
     "metadata": {},
     "output_type": "display_data"
    }
   ],
   "source": [
    "x = np.arange(5)\n",
    "types = ['1분 자기소개', '시뮬레이션', '자소서', '마지막 할 말', '모든 영상']\n",
    "values = [oneminute['view'].mean(),simulation['view'].mean(), jasoseo['view'].mean(), final_say['view'].mean(), except_shorts['view'].mean()]\n",
    "\n",
    "plt.title('주제별 조회수')\n",
    "plt.bar(x, values)\n",
    "plt.xticks(x, types)\n",
    "plt.legend()\n",
    "plt.show()"
   ]
  },
  {
   "cell_type": "markdown",
   "metadata": {},
   "source": [
    "**마지막 할 말이 유난히 높다**\n",
    "- 조회수가 102만회로 유난히 높은 영상은 **회색 썸네일**"
   ]
  },
  {
   "cell_type": "code",
   "execution_count": 41,
   "metadata": {},
   "outputs": [
    {
     "data": {
      "text/html": [
       "<div>\n",
       "<style scoped>\n",
       "    .dataframe tbody tr th:only-of-type {\n",
       "        vertical-align: middle;\n",
       "    }\n",
       "\n",
       "    .dataframe tbody tr th {\n",
       "        vertical-align: top;\n",
       "    }\n",
       "\n",
       "    .dataframe thead th {\n",
       "        text-align: right;\n",
       "    }\n",
       "</style>\n",
       "<table border=\"1\" class=\"dataframe\">\n",
       "  <thead>\n",
       "    <tr style=\"text-align: right;\">\n",
       "      <th></th>\n",
       "      <th>title</th>\n",
       "      <th>view</th>\n",
       "      <th>run_time</th>\n",
       "    </tr>\n",
       "  </thead>\n",
       "  <tbody>\n",
       "    <tr>\n",
       "      <th>108</th>\n",
       "      <td>[면접연구소] 면접에서 마지막 할 말</td>\n",
       "      <td>18717</td>\n",
       "      <td>185</td>\n",
       "    </tr>\n",
       "    <tr>\n",
       "      <th>153</th>\n",
       "      <td>면접관이 딱 정해주는 면접 마지막 할말</td>\n",
       "      <td>291929</td>\n",
       "      <td>219</td>\n",
       "    </tr>\n",
       "    <tr>\n",
       "      <th>404</th>\n",
       "      <td>면접관이 밝히는, 마지막할말은... 아무말도 하지 말아줘! 나 힘들다고~</td>\n",
       "      <td>1025777</td>\n",
       "      <td>320</td>\n",
       "    </tr>\n",
       "  </tbody>\n",
       "</table>\n",
       "</div>"
      ],
      "text/plain": [
       "                                        title     view  run_time\n",
       "108                      [면접연구소] 면접에서 마지막 할 말    18717       185\n",
       "153                     면접관이 딱 정해주는 면접 마지막 할말   291929       219\n",
       "404  면접관이 밝히는, 마지막할말은... 아무말도 하지 말아줘! 나 힘들다고~  1025777       320"
      ]
     },
     "execution_count": 41,
     "metadata": {},
     "output_type": "execute_result"
    }
   ],
   "source": [
    "final_say = []\n",
    "for i in range(len(except_shorts)):\n",
    "    if '마지막' in except_shorts['title'][i]:\n",
    "        final_say.append(except_shorts.iloc[i][['title','view', 'run_time']])\n",
    "final_say = pd.DataFrame(final_say)\n",
    "final_say"
   ]
  },
  {
   "cell_type": "code",
   "execution_count": 42,
   "metadata": {},
   "outputs": [
    {
     "data": {
      "text/html": [
       "<div>\n",
       "<style scoped>\n",
       "    .dataframe tbody tr th:only-of-type {\n",
       "        vertical-align: middle;\n",
       "    }\n",
       "\n",
       "    .dataframe tbody tr th {\n",
       "        vertical-align: top;\n",
       "    }\n",
       "\n",
       "    .dataframe thead th {\n",
       "        text-align: right;\n",
       "    }\n",
       "</style>\n",
       "<table border=\"1\" class=\"dataframe\">\n",
       "  <thead>\n",
       "    <tr style=\"text-align: right;\">\n",
       "      <th></th>\n",
       "      <th>title</th>\n",
       "      <th>view</th>\n",
       "      <th>run_time</th>\n",
       "    </tr>\n",
       "  </thead>\n",
       "  <tbody>\n",
       "    <tr>\n",
       "      <th>142</th>\n",
       "      <td>면접관이 직접 보여주는 우리회사 떨어지면 어디 갈 거예요? 면접답변</td>\n",
       "      <td>1302687</td>\n",
       "      <td>367</td>\n",
       "    </tr>\n",
       "    <tr>\n",
       "      <th>156</th>\n",
       "      <td>면접관이 직접 보여주는 합격하는 1분 자기소개</td>\n",
       "      <td>625391</td>\n",
       "      <td>425</td>\n",
       "    </tr>\n",
       "    <tr>\n",
       "      <th>139</th>\n",
       "      <td>면접관이 직접 보여주는 합격시킬 수밖에 없는 지원자</td>\n",
       "      <td>132462</td>\n",
       "      <td>490</td>\n",
       "    </tr>\n",
       "    <tr>\n",
       "      <th>112</th>\n",
       "      <td>[면접연구소] 직접 보여주는 1분 자기소개 핵심 요약</td>\n",
       "      <td>83383</td>\n",
       "      <td>189</td>\n",
       "    </tr>\n",
       "    <tr>\n",
       "      <th>149</th>\n",
       "      <td>면접관이 직접 보여주는 모의면접 몰아보기</td>\n",
       "      <td>52825</td>\n",
       "      <td>537</td>\n",
       "    </tr>\n",
       "    <tr>\n",
       "      <th>144</th>\n",
       "      <td>면접관이 직접 보여주는 면접에서의 솔직함 vs. 멍청함</td>\n",
       "      <td>44130</td>\n",
       "      <td>316</td>\n",
       "    </tr>\n",
       "    <tr>\n",
       "      <th>14</th>\n",
       "      <td>합격자가 직접 보여주는 합격자 스펙 공개 (합격률 0%에서 최종합격까지)</td>\n",
       "      <td>32188</td>\n",
       "      <td>703</td>\n",
       "    </tr>\n",
       "    <tr>\n",
       "      <th>110</th>\n",
       "      <td>[면접연구소] 직접 보여주는 취준생의 흔한 실수</td>\n",
       "      <td>27932</td>\n",
       "      <td>166</td>\n",
       "    </tr>\n",
       "  </tbody>\n",
       "</table>\n",
       "</div>"
      ],
      "text/plain": [
       "                                        title     view  run_time\n",
       "142     면접관이 직접 보여주는 우리회사 떨어지면 어디 갈 거예요? 면접답변  1302687       367\n",
       "156                 면접관이 직접 보여주는 합격하는 1분 자기소개   625391       425\n",
       "139              면접관이 직접 보여주는 합격시킬 수밖에 없는 지원자   132462       490\n",
       "112             [면접연구소] 직접 보여주는 1분 자기소개 핵심 요약    83383       189\n",
       "149                    면접관이 직접 보여주는 모의면접 몰아보기    52825       537\n",
       "144            면접관이 직접 보여주는 면접에서의 솔직함 vs. 멍청함    44130       316\n",
       "14   합격자가 직접 보여주는 합격자 스펙 공개 (합격률 0%에서 최종합격까지)    32188       703\n",
       "110                [면접연구소] 직접 보여주는 취준생의 흔한 실수    27932       166"
      ]
     },
     "execution_count": 42,
     "metadata": {},
     "output_type": "execute_result"
    }
   ],
   "source": [
    "simulation = []\n",
    "simulation_sum = 0\n",
    "for i in range(len(except_shorts)):\n",
    "    if '직접 보여주는' in except_shorts['title'][i]:\n",
    "        simulation.append(except_shorts.iloc[i][['title','view', 'run_time']])\n",
    "        simulation_sum += 1\n",
    "simulation = pd.DataFrame(simulation)\n",
    "simulation.sort_values('view', ascending = False)"
   ]
  },
  {
   "cell_type": "code",
   "execution_count": null,
   "metadata": {},
   "outputs": [],
   "source": []
  },
  {
   "cell_type": "code",
   "execution_count": null,
   "metadata": {},
   "outputs": [],
   "source": []
  },
  {
   "cell_type": "code",
   "execution_count": null,
   "metadata": {},
   "outputs": [],
   "source": []
  },
  {
   "cell_type": "code",
   "execution_count": null,
   "metadata": {},
   "outputs": [],
   "source": []
  },
  {
   "cell_type": "markdown",
   "metadata": {},
   "source": [
    "---"
   ]
  },
  {
   "cell_type": "markdown",
   "metadata": {},
   "source": [
    "---"
   ]
  },
  {
   "cell_type": "markdown",
   "metadata": {},
   "source": [
    "## title 전처리"
   ]
  },
  {
   "cell_type": "code",
   "execution_count": 43,
   "metadata": {},
   "outputs": [],
   "source": [
    "#한글 형태소 분석기인 konlpy사용 \n",
    "\n",
    "from konlpy.tag import Kkma\n",
    "from konlpy.tag import Mecab\n",
    "from konlpy.tag import Twitter\n",
    "#apply lambda사용\n",
    "from konlpy.tag import Komoran\n",
    "import re"
   ]
  },
  {
   "cell_type": "code",
   "execution_count": 44,
   "metadata": {},
   "outputs": [],
   "source": [
    "kkma = Kkma()\n",
    "komoran = Komoran()"
   ]
  },
  {
   "cell_type": "code",
   "execution_count": 45,
   "metadata": {},
   "outputs": [],
   "source": [
    "title_ls=[]\n",
    "for i in range(len(hyung)):\n",
    "    special = re.compile(r'[^ A-Za-z0-9가-힣+]')\n",
    "    result = special.sub('', hyung['title'].iloc[i])     \n",
    "    title_ls.append(result)\n",
    "    \n",
    "hyung['title'] = title_ls"
   ]
  },
  {
   "cell_type": "code",
   "execution_count": 46,
   "metadata": {},
   "outputs": [
    {
     "data": {
      "text/html": [
       "<div>\n",
       "<style scoped>\n",
       "    .dataframe tbody tr th:only-of-type {\n",
       "        vertical-align: middle;\n",
       "    }\n",
       "\n",
       "    .dataframe tbody tr th {\n",
       "        vertical-align: top;\n",
       "    }\n",
       "\n",
       "    .dataframe thead th {\n",
       "        text-align: right;\n",
       "    }\n",
       "</style>\n",
       "<table border=\"1\" class=\"dataframe\">\n",
       "  <thead>\n",
       "    <tr style=\"text-align: right;\">\n",
       "      <th></th>\n",
       "      <th>title</th>\n",
       "      <th>run_time</th>\n",
       "      <th>date</th>\n",
       "      <th>view</th>\n",
       "      <th>token</th>\n",
       "    </tr>\n",
       "  </thead>\n",
       "  <tbody>\n",
       "    <tr>\n",
       "      <th>0</th>\n",
       "      <td>상반기를 이렇게 준비하면 당연히 떨어집니다</td>\n",
       "      <td>[7, 51]</td>\n",
       "      <td>20220217</td>\n",
       "      <td>26080</td>\n",
       "      <td>[상반기, 준비]</td>\n",
       "    </tr>\n",
       "    <tr>\n",
       "      <th>1</th>\n",
       "      <td>2월에 진짜 놓치면 안 되는 것</td>\n",
       "      <td>[8, 36]</td>\n",
       "      <td>20220215</td>\n",
       "      <td>55310</td>\n",
       "      <td>[2월]</td>\n",
       "    </tr>\n",
       "    <tr>\n",
       "      <th>2</th>\n",
       "      <td>서류에서 매번 광탈하는 취준생 특징</td>\n",
       "      <td>[1, 11, 5]</td>\n",
       "      <td>20220214</td>\n",
       "      <td>13909</td>\n",
       "      <td>[서류, 특징]</td>\n",
       "    </tr>\n",
       "    <tr>\n",
       "      <th>3</th>\n",
       "      <td>공백기 2년 스펙 부족 지원자에 대한 면접관의 속마음</td>\n",
       "      <td>[9, 43]</td>\n",
       "      <td>20220213</td>\n",
       "      <td>32281</td>\n",
       "      <td>[공백기, 스펙, 부족, 지원자, 면접관, 속마음]</td>\n",
       "    </tr>\n",
       "    <tr>\n",
       "      <th>4</th>\n",
       "      <td>나도 모르게 취업이 안 되는 이유</td>\n",
       "      <td>[7, 17]</td>\n",
       "      <td>20220209</td>\n",
       "      <td>16045</td>\n",
       "      <td>[취업, 이유]</td>\n",
       "    </tr>\n",
       "    <tr>\n",
       "      <th>...</th>\n",
       "      <td>...</td>\n",
       "      <td>...</td>\n",
       "      <td>...</td>\n",
       "      <td>...</td>\n",
       "      <td>...</td>\n",
       "    </tr>\n",
       "    <tr>\n",
       "      <th>410</th>\n",
       "      <td>진짜 잘 본 면접 면접 잘 본거 같아요 그 기준이 뭘까요</td>\n",
       "      <td>[7, 37]</td>\n",
       "      <td>20181205</td>\n",
       "      <td>223441</td>\n",
       "      <td>[면접, 면접, 기준]</td>\n",
       "    </tr>\n",
       "    <tr>\n",
       "      <th>411</th>\n",
       "      <td>면접관이 원하는 두괄식 답변을 알려주마 말을 짧게 하는게 두괄식이 아니야</td>\n",
       "      <td>[4, 36]</td>\n",
       "      <td>20181205</td>\n",
       "      <td>221963</td>\n",
       "      <td>[면접관, 답변, 아니야]</td>\n",
       "    </tr>\n",
       "    <tr>\n",
       "      <th>412</th>\n",
       "      <td>면접관이 밝히는 면접준비의 핵심  수비형면접을 벗어나라</td>\n",
       "      <td>[6, 59]</td>\n",
       "      <td>20181205</td>\n",
       "      <td>97103</td>\n",
       "      <td>[면접관, 면접, 준비, 핵심, 수비, 면접]</td>\n",
       "    </tr>\n",
       "    <tr>\n",
       "      <th>413</th>\n",
       "      <td>면접 마인드셋 성공하는 면접은 시작이 다르다</td>\n",
       "      <td>[2, 58]</td>\n",
       "      <td>20181205</td>\n",
       "      <td>41178</td>\n",
       "      <td>[면접, 마인드, 성공, 면접, 시작]</td>\n",
       "    </tr>\n",
       "    <tr>\n",
       "      <th>414</th>\n",
       "      <td>퇴사한 이형 여러분께 사죄 말씀 올립니다</td>\n",
       "      <td>[3, 47]</td>\n",
       "      <td>20181205</td>\n",
       "      <td>41763</td>\n",
       "      <td>[퇴사, 이형, 사죄, 말씀]</td>\n",
       "    </tr>\n",
       "  </tbody>\n",
       "</table>\n",
       "<p>415 rows × 5 columns</p>\n",
       "</div>"
      ],
      "text/plain": [
       "                                        title    run_time      date    view  \\\n",
       "0                     상반기를 이렇게 준비하면 당연히 떨어집니다     [7, 51]  20220217   26080   \n",
       "1                           2월에 진짜 놓치면 안 되는 것     [8, 36]  20220215   55310   \n",
       "2                         서류에서 매번 광탈하는 취준생 특징  [1, 11, 5]  20220214   13909   \n",
       "3               공백기 2년 스펙 부족 지원자에 대한 면접관의 속마음     [9, 43]  20220213   32281   \n",
       "4                          나도 모르게 취업이 안 되는 이유     [7, 17]  20220209   16045   \n",
       "..                                        ...         ...       ...     ...   \n",
       "410           진짜 잘 본 면접 면접 잘 본거 같아요 그 기준이 뭘까요     [7, 37]  20181205  223441   \n",
       "411  면접관이 원하는 두괄식 답변을 알려주마 말을 짧게 하는게 두괄식이 아니야     [4, 36]  20181205  221963   \n",
       "412            면접관이 밝히는 면접준비의 핵심  수비형면접을 벗어나라     [6, 59]  20181205   97103   \n",
       "413                  면접 마인드셋 성공하는 면접은 시작이 다르다     [2, 58]  20181205   41178   \n",
       "414                    퇴사한 이형 여러분께 사죄 말씀 올립니다     [3, 47]  20181205   41763   \n",
       "\n",
       "                            token  \n",
       "0                       [상반기, 준비]  \n",
       "1                            [2월]  \n",
       "2                        [서류, 특징]  \n",
       "3    [공백기, 스펙, 부족, 지원자, 면접관, 속마음]  \n",
       "4                        [취업, 이유]  \n",
       "..                            ...  \n",
       "410                  [면접, 면접, 기준]  \n",
       "411                [면접관, 답변, 아니야]  \n",
       "412     [면접관, 면접, 준비, 핵심, 수비, 면접]  \n",
       "413         [면접, 마인드, 성공, 면접, 시작]  \n",
       "414              [퇴사, 이형, 사죄, 말씀]  \n",
       "\n",
       "[415 rows x 5 columns]"
      ]
     },
     "execution_count": 46,
     "metadata": {},
     "output_type": "execute_result"
    }
   ],
   "source": [
    "noun = []\n",
    "for i in range(len(hyung)):\n",
    "    noun0 = komoran.nouns(hyung['title'].iloc[i])\n",
    "    noun1=[]\n",
    "    for j in range(len(noun0)):\n",
    "        if len(noun0[j]) ==  1:\n",
    "            continue\n",
    "        noun1.append(noun0[j])\n",
    "    noun.append(noun1)\n",
    "hyung['token'] = noun\n",
    "hyung"
   ]
  },
  {
   "cell_type": "markdown",
   "metadata": {},
   "source": [
    "### 2-3) 단어별 조회 수"
   ]
  },
  {
   "cell_type": "code",
   "execution_count": 47,
   "metadata": {},
   "outputs": [
    {
     "data": {
      "text/html": [
       "<div>\n",
       "<style scoped>\n",
       "    .dataframe tbody tr th:only-of-type {\n",
       "        vertical-align: middle;\n",
       "    }\n",
       "\n",
       "    .dataframe tbody tr th {\n",
       "        vertical-align: top;\n",
       "    }\n",
       "\n",
       "    .dataframe thead th {\n",
       "        text-align: right;\n",
       "    }\n",
       "</style>\n",
       "<table border=\"1\" class=\"dataframe\">\n",
       "  <thead>\n",
       "    <tr style=\"text-align: right;\">\n",
       "      <th></th>\n",
       "      <th>token</th>\n",
       "      <th>view</th>\n",
       "    </tr>\n",
       "  </thead>\n",
       "  <tbody>\n",
       "    <tr>\n",
       "      <th>2</th>\n",
       "      <td>소개</td>\n",
       "      <td>1727000.0</td>\n",
       "    </tr>\n",
       "    <tr>\n",
       "      <th>0</th>\n",
       "      <td>면접관</td>\n",
       "      <td>1727000.0</td>\n",
       "    </tr>\n",
       "    <tr>\n",
       "      <th>1</th>\n",
       "      <td>소개</td>\n",
       "      <td>1727000.0</td>\n",
       "    </tr>\n",
       "    <tr>\n",
       "      <th>1</th>\n",
       "      <td>면접</td>\n",
       "      <td>1324995.0</td>\n",
       "    </tr>\n",
       "    <tr>\n",
       "      <th>0</th>\n",
       "      <td>준비</td>\n",
       "      <td>1324995.0</td>\n",
       "    </tr>\n",
       "  </tbody>\n",
       "</table>\n",
       "</div>"
      ],
      "text/plain": [
       "  token       view\n",
       "2    소개  1727000.0\n",
       "0   면접관  1727000.0\n",
       "1    소개  1727000.0\n",
       "1    면접  1324995.0\n",
       "0    준비  1324995.0"
      ]
     },
     "execution_count": 47,
     "metadata": {},
     "output_type": "execute_result"
    }
   ],
   "source": [
    "# 제목별 토큰, 조회수\n",
    "token_view = pd.DataFrame({'token':[]})\n",
    "\n",
    "for i in range(len(hyung)):\n",
    "    insert_data = pd.DataFrame({'token':hyung['token'].iloc[i]})\n",
    "    insert_data['view'] = hyung['view'].iloc[i]\n",
    "    token_view = token_view.append(insert_data)\n",
    "\n",
    "token_view.sort_values(by='view', ascending=False).head()"
   ]
  },
  {
   "cell_type": "code",
   "execution_count": 48,
   "metadata": {
    "scrolled": true
   },
   "outputs": [
    {
     "data": {
      "text/html": [
       "<div>\n",
       "<style scoped>\n",
       "    .dataframe tbody tr th:only-of-type {\n",
       "        vertical-align: middle;\n",
       "    }\n",
       "\n",
       "    .dataframe tbody tr th {\n",
       "        vertical-align: top;\n",
       "    }\n",
       "\n",
       "    .dataframe thead th {\n",
       "        text-align: right;\n",
       "    }\n",
       "</style>\n",
       "<table border=\"1\" class=\"dataframe\">\n",
       "  <thead>\n",
       "    <tr style=\"text-align: right;\">\n",
       "      <th></th>\n",
       "      <th>token</th>\n",
       "      <th>view</th>\n",
       "      <th>count</th>\n",
       "      <th>view_count</th>\n",
       "    </tr>\n",
       "  </thead>\n",
       "  <tbody>\n",
       "    <tr>\n",
       "      <th>145</th>\n",
       "      <td>말도</td>\n",
       "      <td>1025777</td>\n",
       "      <td>1</td>\n",
       "      <td>1.025777e+06</td>\n",
       "    </tr>\n",
       "    <tr>\n",
       "      <th>463</th>\n",
       "      <td>포부</td>\n",
       "      <td>689925</td>\n",
       "      <td>1</td>\n",
       "      <td>6.899250e+05</td>\n",
       "    </tr>\n",
       "    <tr>\n",
       "      <th>143</th>\n",
       "      <td>마지막</td>\n",
       "      <td>1336423</td>\n",
       "      <td>3</td>\n",
       "      <td>4.454743e+05</td>\n",
       "    </tr>\n",
       "    <tr>\n",
       "      <th>227</th>\n",
       "      <td>소개</td>\n",
       "      <td>5887457</td>\n",
       "      <td>14</td>\n",
       "      <td>4.205326e+05</td>\n",
       "    </tr>\n",
       "    <tr>\n",
       "      <th>425</th>\n",
       "      <td>최고</td>\n",
       "      <td>811933</td>\n",
       "      <td>2</td>\n",
       "      <td>4.059665e+05</td>\n",
       "    </tr>\n",
       "  </tbody>\n",
       "</table>\n",
       "</div>"
      ],
      "text/plain": [
       "    token     view  count    view_count\n",
       "145    말도  1025777      1  1.025777e+06\n",
       "463    포부   689925      1  6.899250e+05\n",
       "143   마지막  1336423      3  4.454743e+05\n",
       "227    소개  5887457     14  4.205326e+05\n",
       "425    최고   811933      2  4.059665e+05"
      ]
     },
     "execution_count": 48,
     "metadata": {},
     "output_type": "execute_result"
    }
   ],
   "source": [
    "# 조회수 int으로 형변환\n",
    "token_view['view'] = token_view['view'].astype('int')\n",
    "\n",
    "# 토큰으로 그룹화하고, 토큰 한 개당 조회수 합 구하기\n",
    "view_sum = token_view.groupby('token')['view'].sum().reset_index()\n",
    "\n",
    "# 해당 토큰이 나온 횟수 구하기\n",
    "view_sum['count'] = token_view.groupby('token').count().reset_index()['view'].tolist()\n",
    "\n",
    "view_count = []\n",
    "\n",
    "for i in range(len(view_sum)):\n",
    "    # 토큰의 총 조회수 / 토큰 개수 (토큰 하나당 조회수)\n",
    "    a = view_sum['view'].iloc[i] / view_sum['count'].iloc[i]\n",
    "    view_count.append(a)\n",
    "    \n",
    "view_sum['view_count'] = view_count\n",
    "\n",
    "# 토큰 하나 당 조회수 출력\n",
    "view_sum.sort_values(by='view_count',ascending = False)[:5]"
   ]
  },
  {
   "cell_type": "markdown",
   "metadata": {},
   "source": [
    "불용어 제거"
   ]
  },
  {
   "cell_type": "code",
   "execution_count": 49,
   "metadata": {},
   "outputs": [
    {
     "data": {
      "text/html": [
       "<div>\n",
       "<style scoped>\n",
       "    .dataframe tbody tr th:only-of-type {\n",
       "        vertical-align: middle;\n",
       "    }\n",
       "\n",
       "    .dataframe tbody tr th {\n",
       "        vertical-align: top;\n",
       "    }\n",
       "\n",
       "    .dataframe thead th {\n",
       "        text-align: right;\n",
       "    }\n",
       "</style>\n",
       "<table border=\"1\" class=\"dataframe\">\n",
       "  <thead>\n",
       "    <tr style=\"text-align: right;\">\n",
       "      <th></th>\n",
       "      <th>token</th>\n",
       "      <th>view</th>\n",
       "      <th>count</th>\n",
       "      <th>view_count</th>\n",
       "    </tr>\n",
       "  </thead>\n",
       "  <tbody>\n",
       "    <tr>\n",
       "      <th>354</th>\n",
       "      <td>자소</td>\n",
       "      <td>3109270</td>\n",
       "      <td>46</td>\n",
       "      <td>67592.826087</td>\n",
       "    </tr>\n",
       "    <tr>\n",
       "      <th>401</th>\n",
       "      <td>지원</td>\n",
       "      <td>3632566</td>\n",
       "      <td>32</td>\n",
       "      <td>113517.687500</td>\n",
       "    </tr>\n",
       "    <tr>\n",
       "      <th>35</th>\n",
       "      <td>경험</td>\n",
       "      <td>1851057</td>\n",
       "      <td>30</td>\n",
       "      <td>61701.900000</td>\n",
       "    </tr>\n",
       "    <tr>\n",
       "      <th>412</th>\n",
       "      <td>질문</td>\n",
       "      <td>4442831</td>\n",
       "      <td>29</td>\n",
       "      <td>153201.068966</td>\n",
       "    </tr>\n",
       "    <tr>\n",
       "      <th>169</th>\n",
       "      <td>방법</td>\n",
       "      <td>1768071</td>\n",
       "      <td>27</td>\n",
       "      <td>65484.111111</td>\n",
       "    </tr>\n",
       "    <tr>\n",
       "      <th>334</th>\n",
       "      <td>이직</td>\n",
       "      <td>1157681</td>\n",
       "      <td>22</td>\n",
       "      <td>52621.863636</td>\n",
       "    </tr>\n",
       "    <tr>\n",
       "      <th>101</th>\n",
       "      <td>답변</td>\n",
       "      <td>4486371</td>\n",
       "      <td>21</td>\n",
       "      <td>213636.714286</td>\n",
       "    </tr>\n",
       "    <tr>\n",
       "      <th>31</th>\n",
       "      <td>경력</td>\n",
       "      <td>2599931</td>\n",
       "      <td>21</td>\n",
       "      <td>123806.238095</td>\n",
       "    </tr>\n",
       "    <tr>\n",
       "      <th>452</th>\n",
       "      <td>특징</td>\n",
       "      <td>916279</td>\n",
       "      <td>19</td>\n",
       "      <td>48225.210526</td>\n",
       "    </tr>\n",
       "    <tr>\n",
       "      <th>122</th>\n",
       "      <td>동기</td>\n",
       "      <td>3172453</td>\n",
       "      <td>19</td>\n",
       "      <td>166971.210526</td>\n",
       "    </tr>\n",
       "  </tbody>\n",
       "</table>\n",
       "</div>"
      ],
      "text/plain": [
       "    token     view  count     view_count\n",
       "354    자소  3109270     46   67592.826087\n",
       "401    지원  3632566     32  113517.687500\n",
       "35     경험  1851057     30   61701.900000\n",
       "412    질문  4442831     29  153201.068966\n",
       "169    방법  1768071     27   65484.111111\n",
       "334    이직  1157681     22   52621.863636\n",
       "101    답변  4486371     21  213636.714286\n",
       "31     경력  2599931     21  123806.238095\n",
       "452    특징   916279     19   48225.210526\n",
       "122    동기  3172453     19  166971.210526"
      ]
     },
     "execution_count": 49,
     "metadata": {},
     "output_type": "execute_result"
    }
   ],
   "source": [
    "stop_word = ['면접관', '가지', '회사', '준비', '지원자', '절대', '사람','유형', '마지막', '말도','회사','마음속','행동',\n",
    "          '안보','퇴직','정해주','입사','원칙','지시','면접','합격','취업','이유']\n",
    "\n",
    "for i in range(len(stop_word)):\n",
    "    drop_index = view_sum[view_sum['token'] == stop_word[i]].index\n",
    "    view_sum = view_sum.drop(drop_index)\n",
    "        \n",
    "view_sum.sort_values(by='count',ascending = False)[:10]"
   ]
  },
  {
   "cell_type": "markdown",
   "metadata": {},
   "source": [
    "워드클라우드"
   ]
  },
  {
   "cell_type": "code",
   "execution_count": 50,
   "metadata": {},
   "outputs": [],
   "source": [
    "from wordcloud import WordCloud\n",
    "from collections import Counter\n",
    "from PIL import Image"
   ]
  },
  {
   "cell_type": "code",
   "execution_count": 51,
   "metadata": {},
   "outputs": [],
   "source": [
    "wordcloud = WordCloud(font_path = 'NanumGothic',width = 800,height = 800)"
   ]
  },
  {
   "cell_type": "code",
   "execution_count": 52,
   "metadata": {},
   "outputs": [
    {
     "data": {
      "image/png": "[encoded data removed]",
      "text/plain": [
       "<Figure size 720x720 with 1 Axes>"
      ]
     },
     "metadata": {},
     "output_type": "display_data"
    }
   ],
   "source": [
    "frequencies = view_sum.set_index('token').to_dict()['count']\n",
    "\n",
    "keyword = wordcloud.generate_from_frequencies(frequencies)\n",
    "array = keyword.to_array()\n",
    "\n",
    "plt.figure(figsize=(10,10))\n",
    "plt.imshow(array, interpolation='bilinear')\n",
    "plt.axis('off')\n",
    "plt.show()"
   ]
  }
 ],
 "metadata": {
  "kernelspec": {
   "display_name": "Python 3",
   "language": "python",
   "name": "python3"
  },
  "language_info": {
   "codemirror_mode": {
    "name": "ipython",
    "version": 3
   },
   "file_extension": ".py",
   "mimetype": "text/x-python",
   "name": "python",
   "nbconvert_exporter": "python",
   "pygments_lexer": "ipython3",
   "version": "3.7.6"
  }
 },
 "nbformat": 4,
 "nbformat_minor": 4
}
