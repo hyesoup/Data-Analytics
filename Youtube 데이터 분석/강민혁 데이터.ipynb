{
 "cells": [
  {
   "cell_type": "markdown",
   "metadata": {},
   "source": [
    "### 유튜브 크롤링 관련 사이트\n",
    "1. 테스터훈 크롤링  \n",
    "https://github.com/minyong-shin/Bloging/blob/master/MY%20-%20%EC%9C%A0%ED%8A%9C%EB%B2%84%20%ED%85%8D%EC%8A%A4%ED%8A%B8%EB%B3%84%EB%A1%9C%20%EC%A1%B0%ED%9A%8C%EC%88%98%EC%99%80%20%EC%82%AC%EB%9E%8C%EB%93%A4%EC%9D%98%EB%B0%98%EC%9D%91(%EB%8C%93%EA%B8%80)%EB%B9%84%EA%B5%90.ipynb\n",
    "\n",
    "### 스크롤 관련 사이트\n",
    "1. https://charimlab.tistory.com/entry/ep01%EC%9B%B9%ED%81%AC%EB%A1%A4%EB%A7%81-15-%EC%83%81%EB%8C%80%EC%A2%8C%ED%91%9C-%ED%99%9C%EC%9A%A9-%EB%B0%8F-%EC%8A%A4%ED%81%AC%EB%A1%A4-%EB%8B%A4%EC%9A%B4-with-%ED%8C%8C%EC%9D%B4%EC%8D%AC?category=990679\n",
    "\n",
    "2. https://m.blog.naver.com/kiddwannabe/221310063239\n",
    "\n",
    "3. https://okky.kr/article/614087"
   ]
  },
  {
   "cell_type": "code",
   "execution_count": 2,
   "metadata": {},
   "outputs": [],
   "source": [
    "import pandas as pd"
   ]
  },
  {
   "cell_type": "code",
   "execution_count": 3,
   "metadata": {},
   "outputs": [],
   "source": [
    "_30 = pd.read_csv('C:/Users/hyesu/Desktop/면접왕 이형 데이터 분석/강민혁/30까지.csv', encoding = 'euc-kr')\n",
    "_53 = pd.read_csv('C:/Users/hyesu/Desktop/면접왕 이형 데이터 분석/강민혁/53까지.csv', encoding = 'euc-kr')\n",
    "_82 = pd.read_csv('C:/Users/hyesu/Desktop/면접왕 이형 데이터 분석/강민혁/82까지.csv', encoding = 'euc-kr')\n",
    "_118 = pd.read_csv('C:/Users/hyesu/Desktop/면접왕 이형 데이터 분석/강민혁/118까지.csv', encoding = 'euc-kr')\n",
    "_154 = pd.read_csv('C:/Users/hyesu/Desktop/면접왕 이형 데이터 분석/강민혁/154까지.csv', encoding = 'euc-kr')\n",
    "_187 = pd.read_csv('C:/Users/hyesu/Desktop/면접왕 이형 데이터 분석/강민혁/187까지.csv', encoding = 'euc-kr')\n",
    "_222 = pd.read_csv('C:/Users/hyesu/Desktop/면접왕 이형 데이터 분석/강민혁/222까지.csv', encoding = 'euc-kr')\n",
    "_257 = pd.read_csv('C:/Users/hyesu/Desktop/면접왕 이형 데이터 분석/강민혁/257까지.csv', encoding = 'euc-kr')\n",
    "_293 = pd.read_csv('C:/Users/hyesu/Desktop/면접왕 이형 데이터 분석/강민혁/293까지.csv', encoding = 'euc-kr')\n",
    "_328 = pd.read_csv('C:/Users/hyesu/Desktop/면접왕 이형 데이터 분석/강민혁/328까지.csv', encoding = 'euc-kr')\n",
    "_364 = pd.read_csv('C:/Users/hyesu/Desktop/면접왕 이형 데이터 분석/강민혁/364까지.csv', encoding = 'euc-kr')\n",
    "_390 = pd.read_csv('C:/Users/hyesu/Desktop/면접왕 이형 데이터 분석/강민혁/390까지.csv', encoding = 'euc-kr')"
   ]
  },
  {
   "cell_type": "code",
   "execution_count": 4,
   "metadata": {},
   "outputs": [
    {
     "data": {
      "text/html": [
       "<div>\n",
       "<style scoped>\n",
       "    .dataframe tbody tr th:only-of-type {\n",
       "        vertical-align: middle;\n",
       "    }\n",
       "\n",
       "    .dataframe tbody tr th {\n",
       "        vertical-align: top;\n",
       "    }\n",
       "\n",
       "    .dataframe thead th {\n",
       "        text-align: right;\n",
       "    }\n",
       "</style>\n",
       "<table border=\"1\" class=\"dataframe\">\n",
       "  <thead>\n",
       "    <tr style=\"text-align: right;\">\n",
       "      <th></th>\n",
       "      <th>title</th>\n",
       "      <th>run_time</th>\n",
       "      <th>date</th>\n",
       "      <th>view</th>\n",
       "    </tr>\n",
       "  </thead>\n",
       "  <tbody>\n",
       "    <tr>\n",
       "      <th>0</th>\n",
       "      <td>면접관이 솔직히 밝히는, 이런답변하는 사람 그냥 뽑았다</td>\n",
       "      <td>5:21</td>\n",
       "      <td>2018. 12. 6.</td>\n",
       "      <td>조회수 602,319회</td>\n",
       "    </tr>\n",
       "    <tr>\n",
       "      <th>1</th>\n",
       "      <td>면접관이 밝히는, 떨지 않는 면접준비. 중요한 질문에만 집중해라</td>\n",
       "      <td>4:06</td>\n",
       "      <td>2018. 12. 5.</td>\n",
       "      <td>조회수 86,807회</td>\n",
       "    </tr>\n",
       "    <tr>\n",
       "      <th>2</th>\n",
       "      <td>진짜 잘 본 면접: 면접 잘 본거 같아요? 그 기준이 뭘까요?</td>\n",
       "      <td>7:37</td>\n",
       "      <td>2018. 12. 5.</td>\n",
       "      <td>조회수 223,441회</td>\n",
       "    </tr>\n",
       "    <tr>\n",
       "      <th>3</th>\n",
       "      <td>면접관이 원하는, 두괄식 답변을 알려주마! (말을 짧게 하는게 두괄식이 아니야...)</td>\n",
       "      <td>4:36</td>\n",
       "      <td>2018. 12. 5.</td>\n",
       "      <td>조회수 221,963회</td>\n",
       "    </tr>\n",
       "    <tr>\n",
       "      <th>4</th>\n",
       "      <td>면접관이 밝히는, 면접준비의 핵심 - 수비형면접을 벗어나라</td>\n",
       "      <td>6:59</td>\n",
       "      <td>2018. 12. 5.</td>\n",
       "      <td>조회수 97,103회</td>\n",
       "    </tr>\n",
       "    <tr>\n",
       "      <th>...</th>\n",
       "      <td>...</td>\n",
       "      <td>...</td>\n",
       "      <td>...</td>\n",
       "      <td>...</td>\n",
       "    </tr>\n",
       "    <tr>\n",
       "      <th>362</th>\n",
       "      <td>취업전문가 강민혁 쌤이 답한다_존경하는 인물 선정 방법 Feat. 삼성 입사지원서</td>\n",
       "      <td>11:48</td>\n",
       "      <td>2018. 9. 12.</td>\n",
       "      <td>조회수 62,858회</td>\n",
       "    </tr>\n",
       "    <tr>\n",
       "      <th>363</th>\n",
       "      <td>취업전문가 강민혁쌤이 답한다_취준생 고민해결_희망연봉 얼마로 답할까?</td>\n",
       "      <td>9:27</td>\n",
       "      <td>2018. 9. 11.</td>\n",
       "      <td>조회수 23,300회</td>\n",
       "    </tr>\n",
       "    <tr>\n",
       "      <th>364</th>\n",
       "      <td>취업전문가 강민혁쌤이 답한다_취준생 고민 해결_모집마감일 지원시 불이익?</td>\n",
       "      <td>11:19</td>\n",
       "      <td>2018. 9. 10.</td>\n",
       "      <td>조회수 5,883회</td>\n",
       "    </tr>\n",
       "    <tr>\n",
       "      <th>365</th>\n",
       "      <td>기술보증기금 자기소개서 항목별 작성법_2018년도 하반기</td>\n",
       "      <td>28:15</td>\n",
       "      <td>2018. 9. 3.</td>\n",
       "      <td>조회수 5,464회</td>\n",
       "    </tr>\n",
       "    <tr>\n",
       "      <th>366</th>\n",
       "      <td>한국철도공사(코레일) 면접 전략_강민혁 취업컨설턴트</td>\n",
       "      <td>23:31</td>\n",
       "      <td>2018. 8. 26.</td>\n",
       "      <td>조회수 17,295회</td>\n",
       "    </tr>\n",
       "  </tbody>\n",
       "</table>\n",
       "<p>367 rows × 4 columns</p>\n",
       "</div>"
      ],
      "text/plain": [
       "                                               title run_time          date  \\\n",
       "0                     면접관이 솔직히 밝히는, 이런답변하는 사람 그냥 뽑았다     5:21  2018. 12. 6.   \n",
       "1                면접관이 밝히는, 떨지 않는 면접준비. 중요한 질문에만 집중해라     4:06  2018. 12. 5.   \n",
       "2                 진짜 잘 본 면접: 면접 잘 본거 같아요? 그 기준이 뭘까요?     7:37  2018. 12. 5.   \n",
       "3    면접관이 원하는, 두괄식 답변을 알려주마! (말을 짧게 하는게 두괄식이 아니야...)     4:36  2018. 12. 5.   \n",
       "4                   면접관이 밝히는, 면접준비의 핵심 - 수비형면접을 벗어나라     6:59  2018. 12. 5.   \n",
       "..                                               ...      ...           ...   \n",
       "362    취업전문가 강민혁 쌤이 답한다_존경하는 인물 선정 방법 Feat. 삼성 입사지원서    11:48  2018. 9. 12.   \n",
       "363           취업전문가 강민혁쌤이 답한다_취준생 고민해결_희망연봉 얼마로 답할까?     9:27  2018. 9. 11.   \n",
       "364         취업전문가 강민혁쌤이 답한다_취준생 고민 해결_모집마감일 지원시 불이익?    11:19  2018. 9. 10.   \n",
       "365                  기술보증기금 자기소개서 항목별 작성법_2018년도 하반기    28:15   2018. 9. 3.   \n",
       "366                     한국철도공사(코레일) 면접 전략_강민혁 취업컨설턴트    23:31  2018. 8. 26.   \n",
       "\n",
       "             view  \n",
       "0    조회수 602,319회  \n",
       "1     조회수 86,807회  \n",
       "2    조회수 223,441회  \n",
       "3    조회수 221,963회  \n",
       "4     조회수 97,103회  \n",
       "..            ...  \n",
       "362   조회수 62,858회  \n",
       "363   조회수 23,300회  \n",
       "364    조회수 5,883회  \n",
       "365    조회수 5,464회  \n",
       "366   조회수 17,295회  \n",
       "\n",
       "[367 rows x 4 columns]"
      ]
     },
     "execution_count": 4,
     "metadata": {},
     "output_type": "execute_result"
    }
   ],
   "source": [
    "data = pd.concat([_30, _53, _82, _118, _154, _187, _222, _257, _293, _328, _364, _390])\n",
    "data = data.reset_index()\n",
    "data = data.drop(['index', 'Unnamed: 0'], axis = 1)\n",
    "data"
   ]
  },
  {
   "cell_type": "code",
   "execution_count": 16,
   "metadata": {},
   "outputs": [
    {
     "data": {
      "text/plain": [
       "title       0\n",
       "run_time    0\n",
       "date        0\n",
       "view        0\n",
       "dtype: int64"
      ]
     },
     "execution_count": 16,
     "metadata": {},
     "output_type": "execute_result"
    }
   ],
   "source": [
    "data.isnull().sum()"
   ]
  },
  {
   "cell_type": "code",
   "execution_count": 15,
   "metadata": {},
   "outputs": [
    {
     "data": {
      "text/html": [
       "<div>\n",
       "<style scoped>\n",
       "    .dataframe tbody tr th:only-of-type {\n",
       "        vertical-align: middle;\n",
       "    }\n",
       "\n",
       "    .dataframe tbody tr th {\n",
       "        vertical-align: top;\n",
       "    }\n",
       "\n",
       "    .dataframe thead th {\n",
       "        text-align: right;\n",
       "    }\n",
       "</style>\n",
       "<table border=\"1\" class=\"dataframe\">\n",
       "  <thead>\n",
       "    <tr style=\"text-align: right;\">\n",
       "      <th></th>\n",
       "      <th>title</th>\n",
       "      <th>run_time</th>\n",
       "      <th>date</th>\n",
       "      <th>view</th>\n",
       "    </tr>\n",
       "  </thead>\n",
       "  <tbody>\n",
       "  </tbody>\n",
       "</table>\n",
       "</div>"
      ],
      "text/plain": [
       "Empty DataFrame\n",
       "Columns: [title, run_time, date, view]\n",
       "Index: []"
      ]
     },
     "execution_count": 15,
     "metadata": {},
     "output_type": "execute_result"
    }
   ],
   "source": [
    "data[data['title'].isnull()]"
   ]
  },
  {
   "cell_type": "code",
   "execution_count": 14,
   "metadata": {},
   "outputs": [
    {
     "data": {
      "text/html": [
       "<div>\n",
       "<style scoped>\n",
       "    .dataframe tbody tr th:only-of-type {\n",
       "        vertical-align: middle;\n",
       "    }\n",
       "\n",
       "    .dataframe tbody tr th {\n",
       "        vertical-align: top;\n",
       "    }\n",
       "\n",
       "    .dataframe thead th {\n",
       "        text-align: right;\n",
       "    }\n",
       "</style>\n",
       "<table border=\"1\" class=\"dataframe\">\n",
       "  <thead>\n",
       "    <tr style=\"text-align: right;\">\n",
       "      <th></th>\n",
       "      <th>title</th>\n",
       "      <th>run_time</th>\n",
       "      <th>date</th>\n",
       "      <th>view</th>\n",
       "    </tr>\n",
       "  </thead>\n",
       "  <tbody>\n",
       "    <tr>\n",
       "      <th>133</th>\n",
       "      <td>CJ 합격을 위해 자소서에 강조해야 하는 3가지_씨제이 그룹과 여러분을 모두 응원합니다</td>\n",
       "      <td>40:24</td>\n",
       "      <td>실시간 스트리밍 시작일: 2020. 5. 31.</td>\n",
       "      <td>조회수 5,436회</td>\n",
       "    </tr>\n",
       "    <tr>\n",
       "      <th>134</th>\n",
       "      <td>24시간 후 삭제예정) 삼성그룹 온라인 GSAT 응시 후 면접 합격을 위해 지금 당...</td>\n",
       "      <td>12:09</td>\n",
       "      <td>2020. 5. 31.</td>\n",
       "      <td>조회수 7,991회</td>\n",
       "    </tr>\n",
       "    <tr>\n",
       "      <th>135</th>\n",
       "      <td>2020 상반기 한국전력공사 인턴 자소서 항목 분석</td>\n",
       "      <td>17:59</td>\n",
       "      <td>2020. 5. 29.</td>\n",
       "      <td>조회수 11,969회</td>\n",
       "    </tr>\n",
       "    <tr>\n",
       "      <th>136</th>\n",
       "      <td>면접 당일 응원이 필요하다면_면접 가는 길에 꼭 보세요!!!</td>\n",
       "      <td>4:17</td>\n",
       "      <td>2020. 5. 26.</td>\n",
       "      <td>조회수 86,810회</td>\n",
       "    </tr>\n",
       "    <tr>\n",
       "      <th>137</th>\n",
       "      <td>중소기업 입사/재직/퇴사 시 필수 점검 사항(현실적 생존방법)</td>\n",
       "      <td>8:51</td>\n",
       "      <td>2020. 5. 24.</td>\n",
       "      <td>조회수 5,565회</td>\n",
       "    </tr>\n",
       "    <tr>\n",
       "      <th>138</th>\n",
       "      <td>면접 모의고사) 최종/임원면접#11 (난이도 중)_해설 강의_면접 하루 전날 최종 ...</td>\n",
       "      <td>1:03:02</td>\n",
       "      <td>실시간 스트리밍 시작일: 2020. 5. 21.</td>\n",
       "      <td>조회수 72,095회</td>\n",
       "    </tr>\n",
       "    <tr>\n",
       "      <th>139</th>\n",
       "      <td>면접 두괄식 답변 단계적으로 연습하는 방법</td>\n",
       "      <td>9:32</td>\n",
       "      <td>2020. 5. 20.</td>\n",
       "      <td>조회수 20,025회</td>\n",
       "    </tr>\n",
       "  </tbody>\n",
       "</table>\n",
       "</div>"
      ],
      "text/plain": [
       "                                                 title run_time  \\\n",
       "133   CJ 합격을 위해 자소서에 강조해야 하는 3가지_씨제이 그룹과 여러분을 모두 응원합니다    40:24   \n",
       "134  24시간 후 삭제예정) 삼성그룹 온라인 GSAT 응시 후 면접 합격을 위해 지금 당...    12:09   \n",
       "135                       2020 상반기 한국전력공사 인턴 자소서 항목 분석    17:59   \n",
       "136                  면접 당일 응원이 필요하다면_면접 가는 길에 꼭 보세요!!!     4:17   \n",
       "137                 중소기업 입사/재직/퇴사 시 필수 점검 사항(현실적 생존방법)     8:51   \n",
       "138  면접 모의고사) 최종/임원면접#11 (난이도 중)_해설 강의_면접 하루 전날 최종 ...  1:03:02   \n",
       "139                            면접 두괄식 답변 단계적으로 연습하는 방법     9:32   \n",
       "\n",
       "                           date         view  \n",
       "133  실시간 스트리밍 시작일: 2020. 5. 31.   조회수 5,436회  \n",
       "134                2020. 5. 31.   조회수 7,991회  \n",
       "135                2020. 5. 29.  조회수 11,969회  \n",
       "136                2020. 5. 26.  조회수 86,810회  \n",
       "137                2020. 5. 24.   조회수 5,565회  \n",
       "138  실시간 스트리밍 시작일: 2020. 5. 21.  조회수 72,095회  \n",
       "139                2020. 5. 20.  조회수 20,025회  "
      ]
     },
     "execution_count": 14,
     "metadata": {},
     "output_type": "execute_result"
    }
   ],
   "source": [
    "data[133:140]"
   ]
  },
  {
   "cell_type": "code",
   "execution_count": 13,
   "metadata": {},
   "outputs": [],
   "source": [
    "data['title'][136] = '면접 당일 응원이 필요하다면_면접 가는 길에 꼭 보세요!!!'"
   ]
  },
  {
   "cell_type": "code",
   "execution_count": 18,
   "metadata": {},
   "outputs": [],
   "source": [
    "data.to_csv('C:/Users/hyesu/Desktop/면접왕 이형 데이터 분석/강민혁/data.csv', encoding = 'euc-kr')"
   ]
  }
 ],
 "metadata": {
  "kernelspec": {
   "display_name": "Python 3",
   "language": "python",
   "name": "python3"
  },
  "language_info": {
   "codemirror_mode": {
    "name": "ipython",
    "version": 3
   },
   "file_extension": ".py",
   "mimetype": "text/x-python",
   "name": "python",
   "nbconvert_exporter": "python",
   "pygments_lexer": "ipython3",
   "version": "3.7.6"
  }
 },
 "nbformat": 4,
 "nbformat_minor": 4
}
