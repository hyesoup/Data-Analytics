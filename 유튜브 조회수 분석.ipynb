import pandas as pd
_41 = pd.read_csv('C:/Users/hyesu/Desktop/면접왕 이형 데이터 분석/41까지.csv', encoding = 'euc-kr')
_85 = pd.read_csv('C:/Users/hyesu/Desktop/면접왕 이형 데이터 분석/85까지.csv', encoding = 'euc-kr')
_117 = pd.read_csv('C:/Users/hyesu/Desktop/면접왕 이형 데이터 분석/117까지.csv', encoding = 'euc-kr')
_149 = pd.read_csv('C:/Users/hyesu/Desktop/면접왕 이형 데이터 분석/149까지.csv', encoding = 'euc-kr')
_150 = pd.read_csv('C:/Users/hyesu/Desktop/면접왕 이형 데이터 분석/150까지.csv', encoding = 'euc-kr')
_181 = pd.read_csv('C:/Users/hyesu/Desktop/면접왕 이형 데이터 분석/181까지.csv', encoding = 'euc-kr')
